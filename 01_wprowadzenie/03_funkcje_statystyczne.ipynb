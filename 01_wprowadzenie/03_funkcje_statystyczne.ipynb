{
  "nbformat": 4,
  "nbformat_minor": 0,
  "metadata": {
    "colab": {
      "provenance": [],
      "authorship_tag": "ABX9TyNe83vrckN709gJUoCUtrVf",
      "include_colab_link": true
    },
    "kernelspec": {
      "name": "python3",
      "display_name": "Python 3"
    },
    "language_info": {
      "name": "python"
    }
  },
  "cells": [
    {
      "cell_type": "markdown",
      "metadata": {
        "id": "view-in-github",
        "colab_type": "text"
      },
      "source": [
        "<a href=\"https://colab.research.google.com/github/LucjanSakowicz/data-science-bootcamp/blob/main/01_wprowadzenie/03_funkcje_statystyczne.ipynb\" target=\"_parent\"><img src=\"https://colab.research.google.com/assets/colab-badge.svg\" alt=\"Open In Colab\"/></a>"
      ]
    },
    {
      "cell_type": "code",
      "execution_count": 1,
      "metadata": {
        "colab": {
          "base_uri": "https://localhost:8080/"
        },
        "id": "sA3WR5e0CZ2Q",
        "outputId": "0960e839-d88d-4105-f2e1-52e0e98c51ab"
      },
      "outputs": [
        {
          "output_type": "stream",
          "name": "stdout",
          "text": [
            "Looking in indexes: https://pypi.org/simple, https://us-python.pkg.dev/colab-wheels/public/simple/\n",
            "Requirement already satisfied: numpy in /usr/local/lib/python3.10/dist-packages (1.22.4)\n"
          ]
        }
      ],
      "source": [
        "pip install numpy"
      ]
    },
    {
      "cell_type": "code",
      "source": [
        "import numpy as np\n",
        "np.__version__"
      ],
      "metadata": {
        "colab": {
          "base_uri": "https://localhost:8080/",
          "height": 35
        },
        "id": "FWqhIVygCdYb",
        "outputId": "ca966341-25e7-4f1d-ebd9-c76846ba7d3c"
      },
      "execution_count": 2,
      "outputs": [
        {
          "output_type": "execute_result",
          "data": {
            "text/plain": [
              "'1.22.4'"
            ],
            "application/vnd.google.colaboratory.intrinsic+json": {
              "type": "string"
            }
          },
          "metadata": {},
          "execution_count": 2
        }
      ]
    },
    {
      "cell_type": "code",
      "source": [
        "price = np.array([[12.40, 12.80, 11.90, 12.60, 1000],\n",
        "                 [12.50, 13.00, 11.70, 12.20, 2000],\n",
        "                 [12.20, 13.40, 12.20, 13.20, 1500]])\n",
        "print(price)"
      ],
      "metadata": {
        "colab": {
          "base_uri": "https://localhost:8080/"
        },
        "id": "xgCCNosQCg5I",
        "outputId": "596903d5-aba4-48dd-dd68-c6e9eb588ed4"
      },
      "execution_count": 4,
      "outputs": [
        {
          "output_type": "stream",
          "name": "stdout",
          "text": [
            "[[  12.4   12.8   11.9   12.6 1000. ]\n",
            " [  12.5   13.    11.7   12.2 2000. ]\n",
            " [  12.2   13.4   12.2   13.2 1500. ]]\n"
          ]
        }
      ]
    },
    {
      "cell_type": "code",
      "source": [
        "price.sum()"
      ],
      "metadata": {
        "colab": {
          "base_uri": "https://localhost:8080/"
        },
        "id": "z8dJdhOaCyDA",
        "outputId": "960ed4a3-1f5a-4f3a-f06f-86efb5a608ec"
      },
      "execution_count": 5,
      "outputs": [
        {
          "output_type": "execute_result",
          "data": {
            "text/plain": [
              "4650.1"
            ]
          },
          "metadata": {},
          "execution_count": 5
        }
      ]
    },
    {
      "cell_type": "code",
      "source": [
        "price.sum(axis=0) #suma po kolumnach"
      ],
      "metadata": {
        "colab": {
          "base_uri": "https://localhost:8080/"
        },
        "id": "3JFDJ9fOC9ZL",
        "outputId": "cc85ece9-1ae7-453c-f808-1bb4ea5c8e91"
      },
      "execution_count": 6,
      "outputs": [
        {
          "output_type": "execute_result",
          "data": {
            "text/plain": [
              "array([  37.1,   39.2,   35.8,   38. , 4500. ])"
            ]
          },
          "metadata": {},
          "execution_count": 6
        }
      ]
    },
    {
      "cell_type": "code",
      "source": [
        "price.sum(axis=1) #suma po wierszach"
      ],
      "metadata": {
        "colab": {
          "base_uri": "https://localhost:8080/"
        },
        "id": "S4Fs7sXyDB1q",
        "outputId": "7ceb3939-6447-4eea-dd00-f6c0c05ef447"
      },
      "execution_count": 7,
      "outputs": [
        {
          "output_type": "execute_result",
          "data": {
            "text/plain": [
              "array([1049.7, 2049.4, 1551. ])"
            ]
          },
          "metadata": {},
          "execution_count": 7
        }
      ]
    },
    {
      "cell_type": "code",
      "source": [
        "np.sum(price)"
      ],
      "metadata": {
        "colab": {
          "base_uri": "https://localhost:8080/"
        },
        "id": "i4c2VTOnDFZx",
        "outputId": "a6e05197-aeb8-4aa7-e866-d84a11100bcb"
      },
      "execution_count": 8,
      "outputs": [
        {
          "output_type": "execute_result",
          "data": {
            "text/plain": [
              "4650.1"
            ]
          },
          "metadata": {},
          "execution_count": 8
        }
      ]
    },
    {
      "cell_type": "code",
      "source": [
        "np.min(price)"
      ],
      "metadata": {
        "colab": {
          "base_uri": "https://localhost:8080/"
        },
        "id": "UFD5_WhDDKA-",
        "outputId": "3e7d8347-6764-4bbf-c8ee-b8a764b13a3c"
      },
      "execution_count": 9,
      "outputs": [
        {
          "output_type": "execute_result",
          "data": {
            "text/plain": [
              "11.7"
            ]
          },
          "metadata": {},
          "execution_count": 9
        }
      ]
    },
    {
      "cell_type": "code",
      "source": [
        "np.min(price, axis=0)"
      ],
      "metadata": {
        "colab": {
          "base_uri": "https://localhost:8080/"
        },
        "id": "9AlW8UbkDLvu",
        "outputId": "a5583956-574f-4cd2-bb48-2ff76bc71e6e"
      },
      "execution_count": 11,
      "outputs": [
        {
          "output_type": "execute_result",
          "data": {
            "text/plain": [
              "array([  12.2,   12.8,   11.7,   12.2, 1000. ])"
            ]
          },
          "metadata": {},
          "execution_count": 11
        }
      ]
    },
    {
      "cell_type": "code",
      "source": [
        "np.max(price, axis=0)"
      ],
      "metadata": {
        "colab": {
          "base_uri": "https://localhost:8080/"
        },
        "id": "Wj9GgmClDNqR",
        "outputId": "43c11c77-8ba7-4fd3-b2f2-d1d76777dcb7"
      },
      "execution_count": 12,
      "outputs": [
        {
          "output_type": "execute_result",
          "data": {
            "text/plain": [
              "array([  12.5,   13.4,   12.2,   13.2, 2000. ])"
            ]
          },
          "metadata": {},
          "execution_count": 12
        }
      ]
    },
    {
      "cell_type": "code",
      "source": [
        "np.median(price)"
      ],
      "metadata": {
        "colab": {
          "base_uri": "https://localhost:8080/"
        },
        "id": "ziom4Jv_DTAZ",
        "outputId": "4b57f9dc-bf68-4bf8-b56c-2e48285d4379"
      },
      "execution_count": 13,
      "outputs": [
        {
          "output_type": "execute_result",
          "data": {
            "text/plain": [
              "12.6"
            ]
          },
          "metadata": {},
          "execution_count": 13
        }
      ]
    },
    {
      "cell_type": "code",
      "source": [
        "np.mean(price, axis=0)"
      ],
      "metadata": {
        "colab": {
          "base_uri": "https://localhost:8080/"
        },
        "id": "21poMs2iDUO7",
        "outputId": "38f37729-6d53-4394-df7f-03a56628e237"
      },
      "execution_count": 14,
      "outputs": [
        {
          "output_type": "execute_result",
          "data": {
            "text/plain": [
              "array([  12.36666667,   13.06666667,   11.93333333,   12.66666667,\n",
              "       1500.        ])"
            ]
          },
          "metadata": {},
          "execution_count": 14
        }
      ]
    },
    {
      "cell_type": "code",
      "source": [
        "np.std(price, axis=0)"
      ],
      "metadata": {
        "colab": {
          "base_uri": "https://localhost:8080/"
        },
        "id": "e33ONgUcDXC5",
        "outputId": "433dfca8-ee6d-437f-c023-e08b0eaf87a8"
      },
      "execution_count": 15,
      "outputs": [
        {
          "output_type": "execute_result",
          "data": {
            "text/plain": [
              "array([1.24721913e-01, 2.49443826e-01, 2.05480467e-01, 4.10960934e-01,\n",
              "       4.08248290e+02])"
            ]
          },
          "metadata": {},
          "execution_count": 15
        }
      ]
    },
    {
      "cell_type": "code",
      "source": [
        "np.var(price, axis=0)"
      ],
      "metadata": {
        "colab": {
          "base_uri": "https://localhost:8080/"
        },
        "id": "yTIiX8WzDZSX",
        "outputId": "dc3a7761-666d-4692-ba12-1aaeed19f6f0"
      },
      "execution_count": 16,
      "outputs": [
        {
          "output_type": "execute_result",
          "data": {
            "text/plain": [
              "array([1.55555556e-02, 6.22222222e-02, 4.22222222e-02, 1.68888889e-01,\n",
              "       1.66666667e+05])"
            ]
          },
          "metadata": {},
          "execution_count": 16
        }
      ]
    },
    {
      "cell_type": "code",
      "source": [],
      "metadata": {
        "id": "FIXwz1IvDb7m"
      },
      "execution_count": null,
      "outputs": []
    }
  ]
}