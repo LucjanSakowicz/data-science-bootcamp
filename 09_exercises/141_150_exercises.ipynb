{
  "nbformat": 4,
  "nbformat_minor": 0,
  "metadata": {
    "colab": {
      "provenance": [],
      "include_colab_link": true
    },
    "kernelspec": {
      "name": "python3",
      "display_name": "Python 3"
    }
  },
  "cells": [
    {
      "cell_type": "markdown",
      "metadata": {
        "id": "view-in-github",
        "colab_type": "text"
      },
      "source": [
        "<a href=\"https://colab.research.google.com/github/LucjanSakowicz/data-science-bootcamp/blob/main/09_exercises/141_150_exercises.ipynb\" target=\"_parent\"><img src=\"https://colab.research.google.com/assets/colab-badge.svg\" alt=\"Open In Colab\"/></a>"
      ]
    },
    {
      "cell_type": "markdown",
      "metadata": {
        "id": "WLEgCW5F1hho"
      },
      "source": [
        "## Pandas\n",
        "\n",
        "### Spis treści:\n",
        "* [Import biblioteki](#0)\n",
        "* [Ćwiczenie 141](#1)\n",
        "* [Ćwiczenie 142](#2)\n",
        "* [Ćwiczenie 143](#3)\n",
        "* [Ćwiczenie 144](#4)\n",
        "* [Ćwiczenie 145](#5)\n",
        "* [Ćwiczenie 146](#6)\n",
        "* [Ćwiczenie 147](#7)\n",
        "* [Ćwiczenie 148](#8)\n",
        "* [Ćwiczenie 149](#9)\n",
        "* [Ćwiczenie 150](#10)"
      ]
    },
    {
      "cell_type": "markdown",
      "metadata": {
        "id": "zeLOLmTj1kBM"
      },
      "source": [
        "### <a name='0'></a>Import biblioteki"
      ]
    },
    {
      "cell_type": "code",
      "metadata": {
        "id": "HXMB7SMe1Wnz",
        "colab": {
          "base_uri": "https://localhost:8080/",
          "height": 35
        },
        "outputId": "126dc8bd-e957-4827-d68b-2ff1990403eb"
      },
      "source": [
        "import numpy as np\n",
        "import pandas as pd\n",
        "\n",
        "np.random.seed(42)\n",
        "np.__version__"
      ],
      "execution_count": 1,
      "outputs": [
        {
          "output_type": "execute_result",
          "data": {
            "text/plain": [
              "'1.22.4'"
            ],
            "application/vnd.google.colaboratory.intrinsic+json": {
              "type": "string"
            }
          },
          "metadata": {},
          "execution_count": 1
        }
      ]
    },
    {
      "cell_type": "markdown",
      "metadata": {
        "id": "cyc70pMe1oCg"
      },
      "source": [
        "### <a name='1'></a> Ćwiczenie 141\n",
        "Podane są dwa obiekty typu _Series_:\n",
        "\n",
        "```\n",
        "s1 = pd.Series(np.random.rand(20))\n",
        "s2 = pd.Series(np.random.randn(20))\n",
        "```\n",
        "Połącz te dwa obiekty w jeden obiekt typu _DataFrame_ (jako dwie kolumny) i przypisz do zmiennej _df_. Nadaj nazwy kolumn odpowiednio _col1_ oraz _col2_.\n"
      ]
    },
    {
      "cell_type": "code",
      "metadata": {
        "id": "7htc5HhMKBjO"
      },
      "source": [
        "s1 = pd.Series(np.random.rand(20))\n",
        "s2 = pd.Series(np.random.randn(20))\n",
        "\n",
        "df = pd.concat([s1, s2], axis=1)\n",
        "df = df.rename(columns={0: 'col1', 1:'col2'}) # lub\n",
        "df.columns = ['col1', 'col2']"
      ],
      "execution_count": 2,
      "outputs": []
    },
    {
      "cell_type": "markdown",
      "metadata": {
        "id": "J9pY1rtr1sC0"
      },
      "source": [
        "### <a name='2'></a> Ćwiczenie 142\n",
        "Wytnij z obiektu _df_ wiersze, dla których wartość w kolumnie _col2_ jest pomiędzy 0.0 a 1.0 (włącznie)."
      ]
    },
    {
      "cell_type": "code",
      "metadata": {
        "id": "rq935m0tLA46",
        "colab": {
          "base_uri": "https://localhost:8080/",
          "height": 206
        },
        "outputId": "e0fdc185-551d-4083-d2bf-ffd64812bdc5"
      },
      "source": [
        "df[(df['col2'] <= 1.0) & (df['col2'] >= 0.0)]\n",
        "\n",
        "#lub\n",
        "df[df['col2'].between(0.0, 1.0)]"
      ],
      "execution_count": 3,
      "outputs": [
        {
          "output_type": "execute_result",
          "data": {
            "text/plain": [
              "        col1      col2\n",
              "1   0.950714  0.314247\n",
              "6   0.058084  0.067528\n",
              "9   0.708073  0.110923\n",
              "11  0.969910  0.375698\n",
              "18  0.431945  0.822545"
            ],
            "text/html": [
              "\n",
              "  <div id=\"df-be8f1cc2-1888-49cd-8b6d-4a03cd77a676\">\n",
              "    <div class=\"colab-df-container\">\n",
              "      <div>\n",
              "<style scoped>\n",
              "    .dataframe tbody tr th:only-of-type {\n",
              "        vertical-align: middle;\n",
              "    }\n",
              "\n",
              "    .dataframe tbody tr th {\n",
              "        vertical-align: top;\n",
              "    }\n",
              "\n",
              "    .dataframe thead th {\n",
              "        text-align: right;\n",
              "    }\n",
              "</style>\n",
              "<table border=\"1\" class=\"dataframe\">\n",
              "  <thead>\n",
              "    <tr style=\"text-align: right;\">\n",
              "      <th></th>\n",
              "      <th>col1</th>\n",
              "      <th>col2</th>\n",
              "    </tr>\n",
              "  </thead>\n",
              "  <tbody>\n",
              "    <tr>\n",
              "      <th>1</th>\n",
              "      <td>0.950714</td>\n",
              "      <td>0.314247</td>\n",
              "    </tr>\n",
              "    <tr>\n",
              "      <th>6</th>\n",
              "      <td>0.058084</td>\n",
              "      <td>0.067528</td>\n",
              "    </tr>\n",
              "    <tr>\n",
              "      <th>9</th>\n",
              "      <td>0.708073</td>\n",
              "      <td>0.110923</td>\n",
              "    </tr>\n",
              "    <tr>\n",
              "      <th>11</th>\n",
              "      <td>0.969910</td>\n",
              "      <td>0.375698</td>\n",
              "    </tr>\n",
              "    <tr>\n",
              "      <th>18</th>\n",
              "      <td>0.431945</td>\n",
              "      <td>0.822545</td>\n",
              "    </tr>\n",
              "  </tbody>\n",
              "</table>\n",
              "</div>\n",
              "      <button class=\"colab-df-convert\" onclick=\"convertToInteractive('df-be8f1cc2-1888-49cd-8b6d-4a03cd77a676')\"\n",
              "              title=\"Convert this dataframe to an interactive table.\"\n",
              "              style=\"display:none;\">\n",
              "        \n",
              "  <svg xmlns=\"http://www.w3.org/2000/svg\" height=\"24px\"viewBox=\"0 0 24 24\"\n",
              "       width=\"24px\">\n",
              "    <path d=\"M0 0h24v24H0V0z\" fill=\"none\"/>\n",
              "    <path d=\"M18.56 5.44l.94 2.06.94-2.06 2.06-.94-2.06-.94-.94-2.06-.94 2.06-2.06.94zm-11 1L8.5 8.5l.94-2.06 2.06-.94-2.06-.94L8.5 2.5l-.94 2.06-2.06.94zm10 10l.94 2.06.94-2.06 2.06-.94-2.06-.94-.94-2.06-.94 2.06-2.06.94z\"/><path d=\"M17.41 7.96l-1.37-1.37c-.4-.4-.92-.59-1.43-.59-.52 0-1.04.2-1.43.59L10.3 9.45l-7.72 7.72c-.78.78-.78 2.05 0 2.83L4 21.41c.39.39.9.59 1.41.59.51 0 1.02-.2 1.41-.59l7.78-7.78 2.81-2.81c.8-.78.8-2.07 0-2.86zM5.41 20L4 18.59l7.72-7.72 1.47 1.35L5.41 20z\"/>\n",
              "  </svg>\n",
              "      </button>\n",
              "      \n",
              "  <style>\n",
              "    .colab-df-container {\n",
              "      display:flex;\n",
              "      flex-wrap:wrap;\n",
              "      gap: 12px;\n",
              "    }\n",
              "\n",
              "    .colab-df-convert {\n",
              "      background-color: #E8F0FE;\n",
              "      border: none;\n",
              "      border-radius: 50%;\n",
              "      cursor: pointer;\n",
              "      display: none;\n",
              "      fill: #1967D2;\n",
              "      height: 32px;\n",
              "      padding: 0 0 0 0;\n",
              "      width: 32px;\n",
              "    }\n",
              "\n",
              "    .colab-df-convert:hover {\n",
              "      background-color: #E2EBFA;\n",
              "      box-shadow: 0px 1px 2px rgba(60, 64, 67, 0.3), 0px 1px 3px 1px rgba(60, 64, 67, 0.15);\n",
              "      fill: #174EA6;\n",
              "    }\n",
              "\n",
              "    [theme=dark] .colab-df-convert {\n",
              "      background-color: #3B4455;\n",
              "      fill: #D2E3FC;\n",
              "    }\n",
              "\n",
              "    [theme=dark] .colab-df-convert:hover {\n",
              "      background-color: #434B5C;\n",
              "      box-shadow: 0px 1px 3px 1px rgba(0, 0, 0, 0.15);\n",
              "      filter: drop-shadow(0px 1px 2px rgba(0, 0, 0, 0.3));\n",
              "      fill: #FFFFFF;\n",
              "    }\n",
              "  </style>\n",
              "\n",
              "      <script>\n",
              "        const buttonEl =\n",
              "          document.querySelector('#df-be8f1cc2-1888-49cd-8b6d-4a03cd77a676 button.colab-df-convert');\n",
              "        buttonEl.style.display =\n",
              "          google.colab.kernel.accessAllowed ? 'block' : 'none';\n",
              "\n",
              "        async function convertToInteractive(key) {\n",
              "          const element = document.querySelector('#df-be8f1cc2-1888-49cd-8b6d-4a03cd77a676');\n",
              "          const dataTable =\n",
              "            await google.colab.kernel.invokeFunction('convertToInteractive',\n",
              "                                                     [key], {});\n",
              "          if (!dataTable) return;\n",
              "\n",
              "          const docLinkHtml = 'Like what you see? Visit the ' +\n",
              "            '<a target=\"_blank\" href=https://colab.research.google.com/notebooks/data_table.ipynb>data table notebook</a>'\n",
              "            + ' to learn more about interactive tables.';\n",
              "          element.innerHTML = '';\n",
              "          dataTable['output_type'] = 'display_data';\n",
              "          await google.colab.output.renderOutput(dataTable, element);\n",
              "          const docLink = document.createElement('div');\n",
              "          docLink.innerHTML = docLinkHtml;\n",
              "          element.appendChild(docLink);\n",
              "        }\n",
              "      </script>\n",
              "    </div>\n",
              "  </div>\n",
              "  "
            ]
          },
          "metadata": {},
          "execution_count": 3
        }
      ]
    },
    {
      "cell_type": "markdown",
      "metadata": {
        "id": "XQLYT2m11wVG"
      },
      "source": [
        "### <a name='3'></a> Ćwiczenie 143\n",
        "Przypisz nową kolumnę o nazwie _col3_, która przyjmie wartość 1 w momencie gdy w kolumnie _col2_ jest wartość nieujemna i przeciwnie -1."
      ]
    },
    {
      "cell_type": "code",
      "metadata": {
        "id": "mAkZEOCVMShv",
        "colab": {
          "base_uri": "https://localhost:8080/",
          "height": 677
        },
        "outputId": "3fdaea86-db13-41f3-8120-15f02369f105"
      },
      "source": [
        "df['col3'] = np.where(df['col2'] > 0, 1, -1)\n",
        "\n",
        "#lub\n",
        "\n",
        "df['col3'] = df['col2'].map(lambda x: 1 if x >= 0 else -1)\n",
        "\n",
        "df"
      ],
      "execution_count": 4,
      "outputs": [
        {
          "output_type": "execute_result",
          "data": {
            "text/plain": [
              "        col1      col2  col3\n",
              "0   0.374540 -1.012831    -1\n",
              "1   0.950714  0.314247     1\n",
              "2   0.731994 -0.908024    -1\n",
              "3   0.598658 -1.412304    -1\n",
              "4   0.156019  1.465649     1\n",
              "5   0.155995 -0.225776    -1\n",
              "6   0.058084  0.067528     1\n",
              "7   0.866176 -1.424748    -1\n",
              "8   0.601115 -0.544383    -1\n",
              "9   0.708073  0.110923     1\n",
              "10  0.020584 -1.150994    -1\n",
              "11  0.969910  0.375698     1\n",
              "12  0.832443 -0.600639    -1\n",
              "13  0.212339 -0.291694    -1\n",
              "14  0.181825 -0.601707    -1\n",
              "15  0.183405  1.852278     1\n",
              "16  0.304242 -0.013497    -1\n",
              "17  0.524756 -1.057711    -1\n",
              "18  0.431945  0.822545     1\n",
              "19  0.291229 -1.220844    -1"
            ],
            "text/html": [
              "\n",
              "  <div id=\"df-50ca67f5-ddb3-4cb2-84de-b88bc723f685\">\n",
              "    <div class=\"colab-df-container\">\n",
              "      <div>\n",
              "<style scoped>\n",
              "    .dataframe tbody tr th:only-of-type {\n",
              "        vertical-align: middle;\n",
              "    }\n",
              "\n",
              "    .dataframe tbody tr th {\n",
              "        vertical-align: top;\n",
              "    }\n",
              "\n",
              "    .dataframe thead th {\n",
              "        text-align: right;\n",
              "    }\n",
              "</style>\n",
              "<table border=\"1\" class=\"dataframe\">\n",
              "  <thead>\n",
              "    <tr style=\"text-align: right;\">\n",
              "      <th></th>\n",
              "      <th>col1</th>\n",
              "      <th>col2</th>\n",
              "      <th>col3</th>\n",
              "    </tr>\n",
              "  </thead>\n",
              "  <tbody>\n",
              "    <tr>\n",
              "      <th>0</th>\n",
              "      <td>0.374540</td>\n",
              "      <td>-1.012831</td>\n",
              "      <td>-1</td>\n",
              "    </tr>\n",
              "    <tr>\n",
              "      <th>1</th>\n",
              "      <td>0.950714</td>\n",
              "      <td>0.314247</td>\n",
              "      <td>1</td>\n",
              "    </tr>\n",
              "    <tr>\n",
              "      <th>2</th>\n",
              "      <td>0.731994</td>\n",
              "      <td>-0.908024</td>\n",
              "      <td>-1</td>\n",
              "    </tr>\n",
              "    <tr>\n",
              "      <th>3</th>\n",
              "      <td>0.598658</td>\n",
              "      <td>-1.412304</td>\n",
              "      <td>-1</td>\n",
              "    </tr>\n",
              "    <tr>\n",
              "      <th>4</th>\n",
              "      <td>0.156019</td>\n",
              "      <td>1.465649</td>\n",
              "      <td>1</td>\n",
              "    </tr>\n",
              "    <tr>\n",
              "      <th>5</th>\n",
              "      <td>0.155995</td>\n",
              "      <td>-0.225776</td>\n",
              "      <td>-1</td>\n",
              "    </tr>\n",
              "    <tr>\n",
              "      <th>6</th>\n",
              "      <td>0.058084</td>\n",
              "      <td>0.067528</td>\n",
              "      <td>1</td>\n",
              "    </tr>\n",
              "    <tr>\n",
              "      <th>7</th>\n",
              "      <td>0.866176</td>\n",
              "      <td>-1.424748</td>\n",
              "      <td>-1</td>\n",
              "    </tr>\n",
              "    <tr>\n",
              "      <th>8</th>\n",
              "      <td>0.601115</td>\n",
              "      <td>-0.544383</td>\n",
              "      <td>-1</td>\n",
              "    </tr>\n",
              "    <tr>\n",
              "      <th>9</th>\n",
              "      <td>0.708073</td>\n",
              "      <td>0.110923</td>\n",
              "      <td>1</td>\n",
              "    </tr>\n",
              "    <tr>\n",
              "      <th>10</th>\n",
              "      <td>0.020584</td>\n",
              "      <td>-1.150994</td>\n",
              "      <td>-1</td>\n",
              "    </tr>\n",
              "    <tr>\n",
              "      <th>11</th>\n",
              "      <td>0.969910</td>\n",
              "      <td>0.375698</td>\n",
              "      <td>1</td>\n",
              "    </tr>\n",
              "    <tr>\n",
              "      <th>12</th>\n",
              "      <td>0.832443</td>\n",
              "      <td>-0.600639</td>\n",
              "      <td>-1</td>\n",
              "    </tr>\n",
              "    <tr>\n",
              "      <th>13</th>\n",
              "      <td>0.212339</td>\n",
              "      <td>-0.291694</td>\n",
              "      <td>-1</td>\n",
              "    </tr>\n",
              "    <tr>\n",
              "      <th>14</th>\n",
              "      <td>0.181825</td>\n",
              "      <td>-0.601707</td>\n",
              "      <td>-1</td>\n",
              "    </tr>\n",
              "    <tr>\n",
              "      <th>15</th>\n",
              "      <td>0.183405</td>\n",
              "      <td>1.852278</td>\n",
              "      <td>1</td>\n",
              "    </tr>\n",
              "    <tr>\n",
              "      <th>16</th>\n",
              "      <td>0.304242</td>\n",
              "      <td>-0.013497</td>\n",
              "      <td>-1</td>\n",
              "    </tr>\n",
              "    <tr>\n",
              "      <th>17</th>\n",
              "      <td>0.524756</td>\n",
              "      <td>-1.057711</td>\n",
              "      <td>-1</td>\n",
              "    </tr>\n",
              "    <tr>\n",
              "      <th>18</th>\n",
              "      <td>0.431945</td>\n",
              "      <td>0.822545</td>\n",
              "      <td>1</td>\n",
              "    </tr>\n",
              "    <tr>\n",
              "      <th>19</th>\n",
              "      <td>0.291229</td>\n",
              "      <td>-1.220844</td>\n",
              "      <td>-1</td>\n",
              "    </tr>\n",
              "  </tbody>\n",
              "</table>\n",
              "</div>\n",
              "      <button class=\"colab-df-convert\" onclick=\"convertToInteractive('df-50ca67f5-ddb3-4cb2-84de-b88bc723f685')\"\n",
              "              title=\"Convert this dataframe to an interactive table.\"\n",
              "              style=\"display:none;\">\n",
              "        \n",
              "  <svg xmlns=\"http://www.w3.org/2000/svg\" height=\"24px\"viewBox=\"0 0 24 24\"\n",
              "       width=\"24px\">\n",
              "    <path d=\"M0 0h24v24H0V0z\" fill=\"none\"/>\n",
              "    <path d=\"M18.56 5.44l.94 2.06.94-2.06 2.06-.94-2.06-.94-.94-2.06-.94 2.06-2.06.94zm-11 1L8.5 8.5l.94-2.06 2.06-.94-2.06-.94L8.5 2.5l-.94 2.06-2.06.94zm10 10l.94 2.06.94-2.06 2.06-.94-2.06-.94-.94-2.06-.94 2.06-2.06.94z\"/><path d=\"M17.41 7.96l-1.37-1.37c-.4-.4-.92-.59-1.43-.59-.52 0-1.04.2-1.43.59L10.3 9.45l-7.72 7.72c-.78.78-.78 2.05 0 2.83L4 21.41c.39.39.9.59 1.41.59.51 0 1.02-.2 1.41-.59l7.78-7.78 2.81-2.81c.8-.78.8-2.07 0-2.86zM5.41 20L4 18.59l7.72-7.72 1.47 1.35L5.41 20z\"/>\n",
              "  </svg>\n",
              "      </button>\n",
              "      \n",
              "  <style>\n",
              "    .colab-df-container {\n",
              "      display:flex;\n",
              "      flex-wrap:wrap;\n",
              "      gap: 12px;\n",
              "    }\n",
              "\n",
              "    .colab-df-convert {\n",
              "      background-color: #E8F0FE;\n",
              "      border: none;\n",
              "      border-radius: 50%;\n",
              "      cursor: pointer;\n",
              "      display: none;\n",
              "      fill: #1967D2;\n",
              "      height: 32px;\n",
              "      padding: 0 0 0 0;\n",
              "      width: 32px;\n",
              "    }\n",
              "\n",
              "    .colab-df-convert:hover {\n",
              "      background-color: #E2EBFA;\n",
              "      box-shadow: 0px 1px 2px rgba(60, 64, 67, 0.3), 0px 1px 3px 1px rgba(60, 64, 67, 0.15);\n",
              "      fill: #174EA6;\n",
              "    }\n",
              "\n",
              "    [theme=dark] .colab-df-convert {\n",
              "      background-color: #3B4455;\n",
              "      fill: #D2E3FC;\n",
              "    }\n",
              "\n",
              "    [theme=dark] .colab-df-convert:hover {\n",
              "      background-color: #434B5C;\n",
              "      box-shadow: 0px 1px 3px 1px rgba(0, 0, 0, 0.15);\n",
              "      filter: drop-shadow(0px 1px 2px rgba(0, 0, 0, 0.3));\n",
              "      fill: #FFFFFF;\n",
              "    }\n",
              "  </style>\n",
              "\n",
              "      <script>\n",
              "        const buttonEl =\n",
              "          document.querySelector('#df-50ca67f5-ddb3-4cb2-84de-b88bc723f685 button.colab-df-convert');\n",
              "        buttonEl.style.display =\n",
              "          google.colab.kernel.accessAllowed ? 'block' : 'none';\n",
              "\n",
              "        async function convertToInteractive(key) {\n",
              "          const element = document.querySelector('#df-50ca67f5-ddb3-4cb2-84de-b88bc723f685');\n",
              "          const dataTable =\n",
              "            await google.colab.kernel.invokeFunction('convertToInteractive',\n",
              "                                                     [key], {});\n",
              "          if (!dataTable) return;\n",
              "\n",
              "          const docLinkHtml = 'Like what you see? Visit the ' +\n",
              "            '<a target=\"_blank\" href=https://colab.research.google.com/notebooks/data_table.ipynb>data table notebook</a>'\n",
              "            + ' to learn more about interactive tables.';\n",
              "          element.innerHTML = '';\n",
              "          dataTable['output_type'] = 'display_data';\n",
              "          await google.colab.output.renderOutput(dataTable, element);\n",
              "          const docLink = document.createElement('div');\n",
              "          docLink.innerHTML = docLinkHtml;\n",
              "          element.appendChild(docLink);\n",
              "        }\n",
              "      </script>\n",
              "    </div>\n",
              "  </div>\n",
              "  "
            ]
          },
          "metadata": {},
          "execution_count": 4
        }
      ]
    },
    {
      "cell_type": "markdown",
      "metadata": {
        "id": "4xTKSUzg10MK"
      },
      "source": [
        "### <a name='4'></a> Ćwiczenie 144\n",
        "Przypisz nową kolumnę o nazwie _col4_, która przytnie wartości z kolumny _col2_ do przedziału $[-1.0, 1.0]$. \n",
        "Innymi słowy, dla wartości poniżej -1.0 należy wstawić wartość -1.0, dla wartości powyżej 1.0 wartość 1.0.\n"
      ]
    },
    {
      "cell_type": "code",
      "metadata": {
        "id": "Bg_ChMCrNR4Q"
      },
      "source": [
        "df['col4'] = df['col2']\n",
        "df['col4'] = np.where(df['col4'] > 1, 1, df['col4'])\n",
        "df['col4'] = np.where(df['col4'] < -1, -1, df['col4'])\n",
        "df\n",
        "\n",
        "#lub\n",
        "\n",
        "df['col4'] = df['col2'].clip(-1.0, 1.0)"
      ],
      "execution_count": 5,
      "outputs": []
    },
    {
      "cell_type": "markdown",
      "metadata": {
        "id": "o3HKIKlP15Ro"
      },
      "source": [
        "### <a name='5'></a> Ćwiczenie 145\n",
        "Znajdź 5 największych wartości dla kolumny _col2_."
      ]
    },
    {
      "cell_type": "code",
      "metadata": {
        "id": "jGG0OO6aU2dU",
        "colab": {
          "base_uri": "https://localhost:8080/"
        },
        "outputId": "e8f7abdc-83fc-4785-caed-790b26ed6558"
      },
      "source": [
        "df['col2'].nlargest(5)"
      ],
      "execution_count": 35,
      "outputs": [
        {
          "output_type": "execute_result",
          "data": {
            "text/plain": [
              "10    2.143944\n",
              "1     1.088951\n",
              "19    0.865755\n",
              "15    0.852433\n",
              "5     0.679598\n",
              "Name: col2, dtype: float64"
            ]
          },
          "metadata": {},
          "execution_count": 35
        }
      ]
    },
    {
      "cell_type": "markdown",
      "metadata": {
        "id": "gj1J1dG7VQWJ"
      },
      "source": [
        "Znajdź 5 najmniejszych wartości dla kolumny _col2_."
      ]
    },
    {
      "cell_type": "code",
      "metadata": {
        "id": "VSD75nMoVPS-",
        "colab": {
          "base_uri": "https://localhost:8080/"
        },
        "outputId": "f53e9b07-a32c-429b-93dc-183ed9a453a0"
      },
      "source": [
        "df['col2'].nsmallest(5)"
      ],
      "execution_count": 37,
      "outputs": [
        {
          "output_type": "execute_result",
          "data": {
            "text/plain": [
              "12   -2.025143\n",
              "3    -1.077745\n",
              "16   -0.792521\n",
              "6    -0.730367\n",
              "4    -0.715304\n",
              "Name: col2, dtype: float64"
            ]
          },
          "metadata": {},
          "execution_count": 37
        }
      ]
    },
    {
      "cell_type": "markdown",
      "metadata": {
        "id": "PunXd_Ey16so"
      },
      "source": [
        "### <a name='6'></a> Ćwiczenie 146\n",
        "Wyznacz skumulowaną sumę dla każdej kolumny.\n",
        "\n",
        "__Wskazówka:__ Użyj metody _pd.DataFrame.cumsum()_."
      ]
    },
    {
      "cell_type": "code",
      "metadata": {
        "id": "1_dpccwOVg0I",
        "colab": {
          "base_uri": "https://localhost:8080/",
          "height": 677
        },
        "outputId": "9d760eec-27b8-4bf3-c202-1d2c5e83bc29"
      },
      "source": [
        "df.cumsum()"
      ],
      "execution_count": 40,
      "outputs": [
        {
          "output_type": "execute_result",
          "data": {
            "text/plain": [
              "         col1      col2  col3      col4\n",
              "0    0.867072 -0.471932    -1 -0.471932\n",
              "1    1.780313  0.617019     0  0.528068\n",
              "2    2.291655  0.681299     1  0.592348\n",
              "3    2.793172 -0.396446     0 -0.407652\n",
              "4    3.591467 -1.111750    -1 -1.122956\n",
              "5    4.241431 -0.432152     0 -0.443358\n",
              "6    4.943398 -1.162519    -1 -1.173724\n",
              "7    5.739190 -0.946060     0 -0.957266\n",
              "8    6.629196 -0.900488     1 -0.911694\n",
              "9    6.967191 -1.552089     0 -1.563294\n",
              "10   7.342774  0.591856     1 -0.563294\n",
              "11   7.436756  1.225775     2  0.070625\n",
              "12   8.015036 -0.799368     1 -0.929375\n",
              "13   8.050978 -0.612914     2 -0.742921\n",
              "14   8.516576 -1.274700     1 -1.404707\n",
              "15   9.059221 -0.422267     2 -0.552274\n",
              "16   9.345762 -1.214788     1 -1.344795\n",
              "17   9.936595 -1.329524     0 -1.459531\n",
              "18   9.967095 -0.824537     1 -0.954544\n",
              "19  10.004444  0.041218     2 -0.088789"
            ],
            "text/html": [
              "\n",
              "  <div id=\"df-bb3d3c16-7c1d-4015-be57-ee15cd68161f\">\n",
              "    <div class=\"colab-df-container\">\n",
              "      <div>\n",
              "<style scoped>\n",
              "    .dataframe tbody tr th:only-of-type {\n",
              "        vertical-align: middle;\n",
              "    }\n",
              "\n",
              "    .dataframe tbody tr th {\n",
              "        vertical-align: top;\n",
              "    }\n",
              "\n",
              "    .dataframe thead th {\n",
              "        text-align: right;\n",
              "    }\n",
              "</style>\n",
              "<table border=\"1\" class=\"dataframe\">\n",
              "  <thead>\n",
              "    <tr style=\"text-align: right;\">\n",
              "      <th></th>\n",
              "      <th>col1</th>\n",
              "      <th>col2</th>\n",
              "      <th>col3</th>\n",
              "      <th>col4</th>\n",
              "    </tr>\n",
              "  </thead>\n",
              "  <tbody>\n",
              "    <tr>\n",
              "      <th>0</th>\n",
              "      <td>0.867072</td>\n",
              "      <td>-0.471932</td>\n",
              "      <td>-1</td>\n",
              "      <td>-0.471932</td>\n",
              "    </tr>\n",
              "    <tr>\n",
              "      <th>1</th>\n",
              "      <td>1.780313</td>\n",
              "      <td>0.617019</td>\n",
              "      <td>0</td>\n",
              "      <td>0.528068</td>\n",
              "    </tr>\n",
              "    <tr>\n",
              "      <th>2</th>\n",
              "      <td>2.291655</td>\n",
              "      <td>0.681299</td>\n",
              "      <td>1</td>\n",
              "      <td>0.592348</td>\n",
              "    </tr>\n",
              "    <tr>\n",
              "      <th>3</th>\n",
              "      <td>2.793172</td>\n",
              "      <td>-0.396446</td>\n",
              "      <td>0</td>\n",
              "      <td>-0.407652</td>\n",
              "    </tr>\n",
              "    <tr>\n",
              "      <th>4</th>\n",
              "      <td>3.591467</td>\n",
              "      <td>-1.111750</td>\n",
              "      <td>-1</td>\n",
              "      <td>-1.122956</td>\n",
              "    </tr>\n",
              "    <tr>\n",
              "      <th>5</th>\n",
              "      <td>4.241431</td>\n",
              "      <td>-0.432152</td>\n",
              "      <td>0</td>\n",
              "      <td>-0.443358</td>\n",
              "    </tr>\n",
              "    <tr>\n",
              "      <th>6</th>\n",
              "      <td>4.943398</td>\n",
              "      <td>-1.162519</td>\n",
              "      <td>-1</td>\n",
              "      <td>-1.173724</td>\n",
              "    </tr>\n",
              "    <tr>\n",
              "      <th>7</th>\n",
              "      <td>5.739190</td>\n",
              "      <td>-0.946060</td>\n",
              "      <td>0</td>\n",
              "      <td>-0.957266</td>\n",
              "    </tr>\n",
              "    <tr>\n",
              "      <th>8</th>\n",
              "      <td>6.629196</td>\n",
              "      <td>-0.900488</td>\n",
              "      <td>1</td>\n",
              "      <td>-0.911694</td>\n",
              "    </tr>\n",
              "    <tr>\n",
              "      <th>9</th>\n",
              "      <td>6.967191</td>\n",
              "      <td>-1.552089</td>\n",
              "      <td>0</td>\n",
              "      <td>-1.563294</td>\n",
              "    </tr>\n",
              "    <tr>\n",
              "      <th>10</th>\n",
              "      <td>7.342774</td>\n",
              "      <td>0.591856</td>\n",
              "      <td>1</td>\n",
              "      <td>-0.563294</td>\n",
              "    </tr>\n",
              "    <tr>\n",
              "      <th>11</th>\n",
              "      <td>7.436756</td>\n",
              "      <td>1.225775</td>\n",
              "      <td>2</td>\n",
              "      <td>0.070625</td>\n",
              "    </tr>\n",
              "    <tr>\n",
              "      <th>12</th>\n",
              "      <td>8.015036</td>\n",
              "      <td>-0.799368</td>\n",
              "      <td>1</td>\n",
              "      <td>-0.929375</td>\n",
              "    </tr>\n",
              "    <tr>\n",
              "      <th>13</th>\n",
              "      <td>8.050978</td>\n",
              "      <td>-0.612914</td>\n",
              "      <td>2</td>\n",
              "      <td>-0.742921</td>\n",
              "    </tr>\n",
              "    <tr>\n",
              "      <th>14</th>\n",
              "      <td>8.516576</td>\n",
              "      <td>-1.274700</td>\n",
              "      <td>1</td>\n",
              "      <td>-1.404707</td>\n",
              "    </tr>\n",
              "    <tr>\n",
              "      <th>15</th>\n",
              "      <td>9.059221</td>\n",
              "      <td>-0.422267</td>\n",
              "      <td>2</td>\n",
              "      <td>-0.552274</td>\n",
              "    </tr>\n",
              "    <tr>\n",
              "      <th>16</th>\n",
              "      <td>9.345762</td>\n",
              "      <td>-1.214788</td>\n",
              "      <td>1</td>\n",
              "      <td>-1.344795</td>\n",
              "    </tr>\n",
              "    <tr>\n",
              "      <th>17</th>\n",
              "      <td>9.936595</td>\n",
              "      <td>-1.329524</td>\n",
              "      <td>0</td>\n",
              "      <td>-1.459531</td>\n",
              "    </tr>\n",
              "    <tr>\n",
              "      <th>18</th>\n",
              "      <td>9.967095</td>\n",
              "      <td>-0.824537</td>\n",
              "      <td>1</td>\n",
              "      <td>-0.954544</td>\n",
              "    </tr>\n",
              "    <tr>\n",
              "      <th>19</th>\n",
              "      <td>10.004444</td>\n",
              "      <td>0.041218</td>\n",
              "      <td>2</td>\n",
              "      <td>-0.088789</td>\n",
              "    </tr>\n",
              "  </tbody>\n",
              "</table>\n",
              "</div>\n",
              "      <button class=\"colab-df-convert\" onclick=\"convertToInteractive('df-bb3d3c16-7c1d-4015-be57-ee15cd68161f')\"\n",
              "              title=\"Convert this dataframe to an interactive table.\"\n",
              "              style=\"display:none;\">\n",
              "        \n",
              "  <svg xmlns=\"http://www.w3.org/2000/svg\" height=\"24px\"viewBox=\"0 0 24 24\"\n",
              "       width=\"24px\">\n",
              "    <path d=\"M0 0h24v24H0V0z\" fill=\"none\"/>\n",
              "    <path d=\"M18.56 5.44l.94 2.06.94-2.06 2.06-.94-2.06-.94-.94-2.06-.94 2.06-2.06.94zm-11 1L8.5 8.5l.94-2.06 2.06-.94-2.06-.94L8.5 2.5l-.94 2.06-2.06.94zm10 10l.94 2.06.94-2.06 2.06-.94-2.06-.94-.94-2.06-.94 2.06-2.06.94z\"/><path d=\"M17.41 7.96l-1.37-1.37c-.4-.4-.92-.59-1.43-.59-.52 0-1.04.2-1.43.59L10.3 9.45l-7.72 7.72c-.78.78-.78 2.05 0 2.83L4 21.41c.39.39.9.59 1.41.59.51 0 1.02-.2 1.41-.59l7.78-7.78 2.81-2.81c.8-.78.8-2.07 0-2.86zM5.41 20L4 18.59l7.72-7.72 1.47 1.35L5.41 20z\"/>\n",
              "  </svg>\n",
              "      </button>\n",
              "      \n",
              "  <style>\n",
              "    .colab-df-container {\n",
              "      display:flex;\n",
              "      flex-wrap:wrap;\n",
              "      gap: 12px;\n",
              "    }\n",
              "\n",
              "    .colab-df-convert {\n",
              "      background-color: #E8F0FE;\n",
              "      border: none;\n",
              "      border-radius: 50%;\n",
              "      cursor: pointer;\n",
              "      display: none;\n",
              "      fill: #1967D2;\n",
              "      height: 32px;\n",
              "      padding: 0 0 0 0;\n",
              "      width: 32px;\n",
              "    }\n",
              "\n",
              "    .colab-df-convert:hover {\n",
              "      background-color: #E2EBFA;\n",
              "      box-shadow: 0px 1px 2px rgba(60, 64, 67, 0.3), 0px 1px 3px 1px rgba(60, 64, 67, 0.15);\n",
              "      fill: #174EA6;\n",
              "    }\n",
              "\n",
              "    [theme=dark] .colab-df-convert {\n",
              "      background-color: #3B4455;\n",
              "      fill: #D2E3FC;\n",
              "    }\n",
              "\n",
              "    [theme=dark] .colab-df-convert:hover {\n",
              "      background-color: #434B5C;\n",
              "      box-shadow: 0px 1px 3px 1px rgba(0, 0, 0, 0.15);\n",
              "      filter: drop-shadow(0px 1px 2px rgba(0, 0, 0, 0.3));\n",
              "      fill: #FFFFFF;\n",
              "    }\n",
              "  </style>\n",
              "\n",
              "      <script>\n",
              "        const buttonEl =\n",
              "          document.querySelector('#df-bb3d3c16-7c1d-4015-be57-ee15cd68161f button.colab-df-convert');\n",
              "        buttonEl.style.display =\n",
              "          google.colab.kernel.accessAllowed ? 'block' : 'none';\n",
              "\n",
              "        async function convertToInteractive(key) {\n",
              "          const element = document.querySelector('#df-bb3d3c16-7c1d-4015-be57-ee15cd68161f');\n",
              "          const dataTable =\n",
              "            await google.colab.kernel.invokeFunction('convertToInteractive',\n",
              "                                                     [key], {});\n",
              "          if (!dataTable) return;\n",
              "\n",
              "          const docLinkHtml = 'Like what you see? Visit the ' +\n",
              "            '<a target=\"_blank\" href=https://colab.research.google.com/notebooks/data_table.ipynb>data table notebook</a>'\n",
              "            + ' to learn more about interactive tables.';\n",
              "          element.innerHTML = '';\n",
              "          dataTable['output_type'] = 'display_data';\n",
              "          await google.colab.output.renderOutput(dataTable, element);\n",
              "          const docLink = document.createElement('div');\n",
              "          docLink.innerHTML = docLinkHtml;\n",
              "          element.appendChild(docLink);\n",
              "        }\n",
              "      </script>\n",
              "    </div>\n",
              "  </div>\n",
              "  "
            ]
          },
          "metadata": {},
          "execution_count": 40
        }
      ]
    },
    {
      "cell_type": "markdown",
      "metadata": {
        "id": "hOhqDRz618Tx"
      },
      "source": [
        "### <a name='7'></a> Ćwiczenie 147\n",
        "Wyznacz medianę dla zmiennej _col2_ (inaczej kwantyl rzędu 0.5)."
      ]
    },
    {
      "cell_type": "code",
      "metadata": {
        "id": "2j0U0daiWk5Z",
        "colab": {
          "base_uri": "https://localhost:8080/"
        },
        "outputId": "9218095d-7131-4672-cf51-ad3c4e0df76f"
      },
      "source": [
        "df['col2'].median()"
      ],
      "execution_count": 41,
      "outputs": [
        {
          "output_type": "execute_result",
          "data": {
            "text/plain": [
              "0.054925929499638274"
            ]
          },
          "metadata": {},
          "execution_count": 41
        }
      ]
    },
    {
      "cell_type": "markdown",
      "metadata": {
        "id": "TXUd_4631-gw"
      },
      "source": [
        "### <a name='8'></a> Ćwiczenie 148\n",
        "Wytnij wiersze, dla których zmienna _col2_ przyjmuje wartości większe od 0.0."
      ]
    },
    {
      "cell_type": "code",
      "metadata": {
        "id": "FKDAKaugW9Pd",
        "colab": {
          "base_uri": "https://localhost:8080/",
          "height": 269
        },
        "outputId": "f9adf65e-878d-4f94-de74-f231aed4e15a"
      },
      "source": [
        "df[df['col2'] > 0.0]\n",
        "\n",
        "#lub\n",
        "\n",
        "df.query(\"col2 > 0\")"
      ],
      "execution_count": 6,
      "outputs": [
        {
          "output_type": "execute_result",
          "data": {
            "text/plain": [
              "        col1      col2  col3      col4\n",
              "1   0.950714  0.314247     1  0.314247\n",
              "4   0.156019  1.465649     1  1.000000\n",
              "6   0.058084  0.067528     1  0.067528\n",
              "9   0.708073  0.110923     1  0.110923\n",
              "11  0.969910  0.375698     1  0.375698\n",
              "15  0.183405  1.852278     1  1.000000\n",
              "18  0.431945  0.822545     1  0.822545"
            ],
            "text/html": [
              "\n",
              "  <div id=\"df-83cc6744-afbc-463a-b58b-9efe202262ac\">\n",
              "    <div class=\"colab-df-container\">\n",
              "      <div>\n",
              "<style scoped>\n",
              "    .dataframe tbody tr th:only-of-type {\n",
              "        vertical-align: middle;\n",
              "    }\n",
              "\n",
              "    .dataframe tbody tr th {\n",
              "        vertical-align: top;\n",
              "    }\n",
              "\n",
              "    .dataframe thead th {\n",
              "        text-align: right;\n",
              "    }\n",
              "</style>\n",
              "<table border=\"1\" class=\"dataframe\">\n",
              "  <thead>\n",
              "    <tr style=\"text-align: right;\">\n",
              "      <th></th>\n",
              "      <th>col1</th>\n",
              "      <th>col2</th>\n",
              "      <th>col3</th>\n",
              "      <th>col4</th>\n",
              "    </tr>\n",
              "  </thead>\n",
              "  <tbody>\n",
              "    <tr>\n",
              "      <th>1</th>\n",
              "      <td>0.950714</td>\n",
              "      <td>0.314247</td>\n",
              "      <td>1</td>\n",
              "      <td>0.314247</td>\n",
              "    </tr>\n",
              "    <tr>\n",
              "      <th>4</th>\n",
              "      <td>0.156019</td>\n",
              "      <td>1.465649</td>\n",
              "      <td>1</td>\n",
              "      <td>1.000000</td>\n",
              "    </tr>\n",
              "    <tr>\n",
              "      <th>6</th>\n",
              "      <td>0.058084</td>\n",
              "      <td>0.067528</td>\n",
              "      <td>1</td>\n",
              "      <td>0.067528</td>\n",
              "    </tr>\n",
              "    <tr>\n",
              "      <th>9</th>\n",
              "      <td>0.708073</td>\n",
              "      <td>0.110923</td>\n",
              "      <td>1</td>\n",
              "      <td>0.110923</td>\n",
              "    </tr>\n",
              "    <tr>\n",
              "      <th>11</th>\n",
              "      <td>0.969910</td>\n",
              "      <td>0.375698</td>\n",
              "      <td>1</td>\n",
              "      <td>0.375698</td>\n",
              "    </tr>\n",
              "    <tr>\n",
              "      <th>15</th>\n",
              "      <td>0.183405</td>\n",
              "      <td>1.852278</td>\n",
              "      <td>1</td>\n",
              "      <td>1.000000</td>\n",
              "    </tr>\n",
              "    <tr>\n",
              "      <th>18</th>\n",
              "      <td>0.431945</td>\n",
              "      <td>0.822545</td>\n",
              "      <td>1</td>\n",
              "      <td>0.822545</td>\n",
              "    </tr>\n",
              "  </tbody>\n",
              "</table>\n",
              "</div>\n",
              "      <button class=\"colab-df-convert\" onclick=\"convertToInteractive('df-83cc6744-afbc-463a-b58b-9efe202262ac')\"\n",
              "              title=\"Convert this dataframe to an interactive table.\"\n",
              "              style=\"display:none;\">\n",
              "        \n",
              "  <svg xmlns=\"http://www.w3.org/2000/svg\" height=\"24px\"viewBox=\"0 0 24 24\"\n",
              "       width=\"24px\">\n",
              "    <path d=\"M0 0h24v24H0V0z\" fill=\"none\"/>\n",
              "    <path d=\"M18.56 5.44l.94 2.06.94-2.06 2.06-.94-2.06-.94-.94-2.06-.94 2.06-2.06.94zm-11 1L8.5 8.5l.94-2.06 2.06-.94-2.06-.94L8.5 2.5l-.94 2.06-2.06.94zm10 10l.94 2.06.94-2.06 2.06-.94-2.06-.94-.94-2.06-.94 2.06-2.06.94z\"/><path d=\"M17.41 7.96l-1.37-1.37c-.4-.4-.92-.59-1.43-.59-.52 0-1.04.2-1.43.59L10.3 9.45l-7.72 7.72c-.78.78-.78 2.05 0 2.83L4 21.41c.39.39.9.59 1.41.59.51 0 1.02-.2 1.41-.59l7.78-7.78 2.81-2.81c.8-.78.8-2.07 0-2.86zM5.41 20L4 18.59l7.72-7.72 1.47 1.35L5.41 20z\"/>\n",
              "  </svg>\n",
              "      </button>\n",
              "      \n",
              "  <style>\n",
              "    .colab-df-container {\n",
              "      display:flex;\n",
              "      flex-wrap:wrap;\n",
              "      gap: 12px;\n",
              "    }\n",
              "\n",
              "    .colab-df-convert {\n",
              "      background-color: #E8F0FE;\n",
              "      border: none;\n",
              "      border-radius: 50%;\n",
              "      cursor: pointer;\n",
              "      display: none;\n",
              "      fill: #1967D2;\n",
              "      height: 32px;\n",
              "      padding: 0 0 0 0;\n",
              "      width: 32px;\n",
              "    }\n",
              "\n",
              "    .colab-df-convert:hover {\n",
              "      background-color: #E2EBFA;\n",
              "      box-shadow: 0px 1px 2px rgba(60, 64, 67, 0.3), 0px 1px 3px 1px rgba(60, 64, 67, 0.15);\n",
              "      fill: #174EA6;\n",
              "    }\n",
              "\n",
              "    [theme=dark] .colab-df-convert {\n",
              "      background-color: #3B4455;\n",
              "      fill: #D2E3FC;\n",
              "    }\n",
              "\n",
              "    [theme=dark] .colab-df-convert:hover {\n",
              "      background-color: #434B5C;\n",
              "      box-shadow: 0px 1px 3px 1px rgba(0, 0, 0, 0.15);\n",
              "      filter: drop-shadow(0px 1px 2px rgba(0, 0, 0, 0.3));\n",
              "      fill: #FFFFFF;\n",
              "    }\n",
              "  </style>\n",
              "\n",
              "      <script>\n",
              "        const buttonEl =\n",
              "          document.querySelector('#df-83cc6744-afbc-463a-b58b-9efe202262ac button.colab-df-convert');\n",
              "        buttonEl.style.display =\n",
              "          google.colab.kernel.accessAllowed ? 'block' : 'none';\n",
              "\n",
              "        async function convertToInteractive(key) {\n",
              "          const element = document.querySelector('#df-83cc6744-afbc-463a-b58b-9efe202262ac');\n",
              "          const dataTable =\n",
              "            await google.colab.kernel.invokeFunction('convertToInteractive',\n",
              "                                                     [key], {});\n",
              "          if (!dataTable) return;\n",
              "\n",
              "          const docLinkHtml = 'Like what you see? Visit the ' +\n",
              "            '<a target=\"_blank\" href=https://colab.research.google.com/notebooks/data_table.ipynb>data table notebook</a>'\n",
              "            + ' to learn more about interactive tables.';\n",
              "          element.innerHTML = '';\n",
              "          dataTable['output_type'] = 'display_data';\n",
              "          await google.colab.output.renderOutput(dataTable, element);\n",
              "          const docLink = document.createElement('div');\n",
              "          docLink.innerHTML = docLinkHtml;\n",
              "          element.appendChild(docLink);\n",
              "        }\n",
              "      </script>\n",
              "    </div>\n",
              "  </div>\n",
              "  "
            ]
          },
          "metadata": {},
          "execution_count": 6
        }
      ]
    },
    {
      "cell_type": "markdown",
      "metadata": {
        "id": "tgI6xEn-2AQo"
      },
      "source": [
        "### <a name='9'></a> Ćwiczenie 149\n",
        "Wytnij 5 pierwszych wierszy obiektu _df_ i przekształć je do słownika."
      ]
    },
    {
      "cell_type": "code",
      "metadata": {
        "id": "HTXId5eFXgyY",
        "colab": {
          "base_uri": "https://localhost:8080/"
        },
        "outputId": "d54216cd-ab6f-4277-b535-f31d68ad50b5"
      },
      "source": [
        "df.head(5).to_dict()"
      ],
      "execution_count": 43,
      "outputs": [
        {
          "output_type": "execute_result",
          "data": {
            "text/plain": [
              "{'col1': {0: 0.8670723185801037,\n",
              "  1: 0.9132405525564713,\n",
              "  2: 0.5113423988609378,\n",
              "  3: 0.5015162946871996,\n",
              "  4: 0.7982951789667752},\n",
              " 'col2': {0: -0.47193186578943347,\n",
              "  1: 1.088950596967366,\n",
              "  2: 0.06428001909546277,\n",
              "  3: -1.0777447779293061,\n",
              "  4: -0.7153037092599682},\n",
              " 'col3': {0: -1, 1: 1, 2: 1, 3: -1, 4: -1},\n",
              " 'col4': {0: -0.47193186578943347,\n",
              "  1: 1.0,\n",
              "  2: 0.06428001909546277,\n",
              "  3: -1.0,\n",
              "  4: -0.7153037092599682}}"
            ]
          },
          "metadata": {},
          "execution_count": 43
        }
      ]
    },
    {
      "cell_type": "markdown",
      "metadata": {
        "id": "wxhpf-uq2B1I"
      },
      "source": [
        "### <a name='10'></a> Ćwiczenie 150\n",
        "Wytnij 5 pierwszych wierszy obiektu _df_, przekształć je do formatu Markdown i przypisz do zmiennej _df_markdown_."
      ]
    },
    {
      "cell_type": "code",
      "metadata": {
        "id": "YFc0KW6URsuc"
      },
      "source": [
        "df_markdown = df.head(5).to_markdown()"
      ],
      "execution_count": 8,
      "outputs": []
    },
    {
      "cell_type": "markdown",
      "metadata": {
        "id": "-_xCdTQpYqFx"
      },
      "source": [
        "Wydrukuj do konsoli zawartość zmiennej _df_markdown_."
      ]
    },
    {
      "cell_type": "code",
      "metadata": {
        "id": "xXI_Km1nX7wA",
        "colab": {
          "base_uri": "https://localhost:8080/"
        },
        "outputId": "97e03203-cfda-422b-bd91-8f3c6236b2e0"
      },
      "source": [
        "print(df_markdown)"
      ],
      "execution_count": 9,
      "outputs": [
        {
          "output_type": "stream",
          "name": "stdout",
          "text": [
            "|    |     col1 |      col2 |   col3 |      col4 |\n",
            "|---:|---------:|----------:|-------:|----------:|\n",
            "|  0 | 0.37454  | -1.01283  |     -1 | -1        |\n",
            "|  1 | 0.950714 |  0.314247 |      1 |  0.314247 |\n",
            "|  2 | 0.731994 | -0.908024 |     -1 | -0.908024 |\n",
            "|  3 | 0.598658 | -1.4123   |     -1 | -1        |\n",
            "|  4 | 0.156019 |  1.46565  |      1 |  1        |\n"
          ]
        }
      ]
    },
    {
      "cell_type": "markdown",
      "metadata": {
        "id": "mtO9QK5XYune"
      },
      "source": [
        "Skopiuj wynik uruchomienia powyższej komórki i wklej poniżej:\n",
        "\n",
        "\\# tutaj wpisz rozwiązanie\n",
        "\n",
        "|    |     col1 |      col2 |   col3 |      col4 |\n",
        "|---:|---------:|----------:|-------:|----------:|\n",
        "|  0 | 0.37454  | -1.01283  |     -1 | -1        |\n",
        "|  1 | 0.950714 |  0.314247 |      1 |  0.314247 |\n",
        "|  2 | 0.731994 | -0.908024 |     -1 | -0.908024 |\n",
        "|  3 | 0.598658 | -1.4123   |     -1 | -1        |\n",
        "|  4 | 0.156019 |  1.46565  |      1 |  1        |\n"
      ]
    }
  ]
}