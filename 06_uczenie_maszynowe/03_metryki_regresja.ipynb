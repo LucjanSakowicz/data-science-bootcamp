{
  "nbformat": 4,
  "nbformat_minor": 0,
  "metadata": {
    "colab": {
      "name": "03_metryki_regresja.ipynb",
      "provenance": [],
      "include_colab_link": true
    },
    "kernelspec": {
      "name": "python3",
      "display_name": "Python 3"
    }
  },
  "cells": [
    {
      "cell_type": "markdown",
      "metadata": {
        "id": "view-in-github",
        "colab_type": "text"
      },
      "source": [
        "<a href=\"https://colab.research.google.com/github/LucjanSakowicz/data-science-bootcamp/blob/main/06_uczenie_maszynowe/03_metryki_regresja.ipynb\" target=\"_parent\"><img src=\"https://colab.research.google.com/assets/colab-badge.svg\" alt=\"Open In Colab\"/></a>"
      ]
    },
    {
      "cell_type": "markdown",
      "metadata": {
        "id": "cVoURqdBJ6Vm"
      },
      "source": [
        "* @author: krakowiakpawel9@gmail.com  \n",
        "* @site: e-smartdata.org"
      ]
    },
    {
      "cell_type": "markdown",
      "metadata": {
        "id": "5gjFu2l9IMsj"
      },
      "source": [
        "### scikit-learn\n",
        ">Strona biblioteki: [https://scikit-learn.org](https://scikit-learn.org)  \n",
        ">\n",
        ">Dokumentacja/User Guide: [https://scikit-learn.org/stable/user_guide.html](https://scikit-learn.org/stable/user_guide.html)\n",
        ">\n",
        ">Podstawowa biblioteka do uczenia maszynowego w języku Python.\n",
        ">\n",
        ">Aby zainstalować bibliotekę scikit-learn, użyj polecenia poniżej:\n",
        "```\n",
        "pip install scikit-learn\n",
        "```\n",
        "\n",
        "### Metryki - Problem regresji:\n",
        "1. [Import bibliotek](#a0)\n",
        "2. [Interpretacja graficzna](#a2)\n",
        "3. [Mean Absolute Error - MAE - Średni błąd bezwzględny](#a3)\n",
        "4. [Mean Squared Error - MSE - Błąd średniokwadratowy](#a4)\n",
        "5. [Root Mean Squared Error - RMSE - Pierwiastek błędu średniokwadratowego](#a5)\n",
        "6. [Max Error - Błąd maksymalny](#a6)\n",
        "7. [R2 score - współczynnik determinacji](#a7)\n",
        "\n",
        "    "
      ]
    },
    {
      "cell_type": "markdown",
      "metadata": {
        "id": "1Dc4DhtS7LTD"
      },
      "source": [
        "### <a name='a0'></a>  Import bibliotek"
      ]
    },
    {
      "cell_type": "code",
      "metadata": {
        "id": "qQZ7LNIt7KAY"
      },
      "source": [
        "import numpy as np\n",
        "import pandas as pd\n",
        "import plotly.express as px\n",
        "import plotly.graph_objects as go"
      ],
      "execution_count": 1,
      "outputs": []
    },
    {
      "cell_type": "code",
      "metadata": {
        "id": "GhNVhidb7SG7",
        "outputId": "ba9a225f-0488-43e6-c879-cc9a924dab1f",
        "colab": {
          "base_uri": "https://localhost:8080/"
        }
      },
      "source": [
        "y_true = 100 + 20 * np.random.randn(50)\n",
        "y_true"
      ],
      "execution_count": 2,
      "outputs": [
        {
          "output_type": "execute_result",
          "data": {
            "text/plain": [
              "array([ 53.93765349,  91.03999552,  55.50852806, 108.41238242,\n",
              "       107.55410711, 120.21922785,  90.24528196,  95.61767802,\n",
              "        95.90528617,  78.60539253, 100.82337886,  99.89831874,\n",
              "       110.04564977, 122.02841735,  92.25437333,  92.4624223 ,\n",
              "       138.19940789,  73.1804464 ,  74.1361351 , 136.19179327,\n",
              "       107.38024548,  70.59299105, 125.11754607, 122.59341515,\n",
              "        81.66917942,  73.17424899,  99.79142691, 120.23410424,\n",
              "       123.2519013 ,  79.20776696,  98.29685606,  91.66664209,\n",
              "       144.92943908, 130.14381267, 113.54116248, 104.01280155,\n",
              "        99.57348931,  77.22223763, 107.79121148,  62.08486727,\n",
              "        79.05741376, 104.04423341,  94.25962762, 116.29011363,\n",
              "       107.59643937,  94.303694  , 106.53043305,  73.64460554,\n",
              "        89.50277974,  85.63758497])"
            ]
          },
          "metadata": {},
          "execution_count": 2
        }
      ]
    },
    {
      "cell_type": "code",
      "metadata": {
        "id": "HuAJr61k7cJV",
        "outputId": "84ed34cf-ae9a-4200-dcc5-abf9cb2739e5",
        "colab": {
          "base_uri": "https://localhost:8080/"
        }
      },
      "source": [
        "y_pred = y_true + 10 * np.random.randn(50)\n",
        "y_pred"
      ],
      "execution_count": 3,
      "outputs": [
        {
          "output_type": "execute_result",
          "data": {
            "text/plain": [
              "array([ 55.250412  ,  91.95613368,  62.03834748, 126.46607229,\n",
              "       101.22624011, 111.37513268,  81.35606785, 107.39879558,\n",
              "       113.276291  ,  81.64946528,  97.74035322,  84.84399155,\n",
              "       109.24983645, 136.8179553 ,  82.97270766,  93.64941601,\n",
              "       137.9346925 ,  83.9338996 ,  70.68729706, 128.68311648,\n",
              "       100.90997477,  75.8794564 , 127.32173489, 131.69655171,\n",
              "        86.51196943,  62.62790196,  92.45276085, 118.16944569,\n",
              "       105.73358578,  76.49259533,  91.14775158, 104.26095287,\n",
              "       131.0597971 , 120.50191611, 120.60312063, 104.29490004,\n",
              "        90.52029491,  84.2776815 , 127.68207553,  73.14702118,\n",
              "        98.57719488, 104.79206324, 102.65408483, 114.34740563,\n",
              "       114.31789092, 101.31425602, 115.43830531,  69.6311852 ,\n",
              "        80.01811462,  67.10280368])"
            ]
          },
          "metadata": {},
          "execution_count": 3
        }
      ]
    },
    {
      "cell_type": "code",
      "metadata": {
        "id": "8V3ah8zL7n2P",
        "outputId": "1aa45836-9a7a-4e62-98b7-65cdca4534a9",
        "colab": {
          "base_uri": "https://localhost:8080/",
          "height": 206
        }
      },
      "source": [
        "results = pd.DataFrame({'y_true': y_true, 'y_pred': y_pred})\n",
        "results.head()"
      ],
      "execution_count": 4,
      "outputs": [
        {
          "output_type": "execute_result",
          "data": {
            "text/plain": [
              "       y_true      y_pred\n",
              "0   53.937653   55.250412\n",
              "1   91.039996   91.956134\n",
              "2   55.508528   62.038347\n",
              "3  108.412382  126.466072\n",
              "4  107.554107  101.226240"
            ],
            "text/html": [
              "\n",
              "  <div id=\"df-d1de4c03-102d-4cce-8213-028bb02e8a24\">\n",
              "    <div class=\"colab-df-container\">\n",
              "      <div>\n",
              "<style scoped>\n",
              "    .dataframe tbody tr th:only-of-type {\n",
              "        vertical-align: middle;\n",
              "    }\n",
              "\n",
              "    .dataframe tbody tr th {\n",
              "        vertical-align: top;\n",
              "    }\n",
              "\n",
              "    .dataframe thead th {\n",
              "        text-align: right;\n",
              "    }\n",
              "</style>\n",
              "<table border=\"1\" class=\"dataframe\">\n",
              "  <thead>\n",
              "    <tr style=\"text-align: right;\">\n",
              "      <th></th>\n",
              "      <th>y_true</th>\n",
              "      <th>y_pred</th>\n",
              "    </tr>\n",
              "  </thead>\n",
              "  <tbody>\n",
              "    <tr>\n",
              "      <th>0</th>\n",
              "      <td>53.937653</td>\n",
              "      <td>55.250412</td>\n",
              "    </tr>\n",
              "    <tr>\n",
              "      <th>1</th>\n",
              "      <td>91.039996</td>\n",
              "      <td>91.956134</td>\n",
              "    </tr>\n",
              "    <tr>\n",
              "      <th>2</th>\n",
              "      <td>55.508528</td>\n",
              "      <td>62.038347</td>\n",
              "    </tr>\n",
              "    <tr>\n",
              "      <th>3</th>\n",
              "      <td>108.412382</td>\n",
              "      <td>126.466072</td>\n",
              "    </tr>\n",
              "    <tr>\n",
              "      <th>4</th>\n",
              "      <td>107.554107</td>\n",
              "      <td>101.226240</td>\n",
              "    </tr>\n",
              "  </tbody>\n",
              "</table>\n",
              "</div>\n",
              "      <button class=\"colab-df-convert\" onclick=\"convertToInteractive('df-d1de4c03-102d-4cce-8213-028bb02e8a24')\"\n",
              "              title=\"Convert this dataframe to an interactive table.\"\n",
              "              style=\"display:none;\">\n",
              "        \n",
              "  <svg xmlns=\"http://www.w3.org/2000/svg\" height=\"24px\"viewBox=\"0 0 24 24\"\n",
              "       width=\"24px\">\n",
              "    <path d=\"M0 0h24v24H0V0z\" fill=\"none\"/>\n",
              "    <path d=\"M18.56 5.44l.94 2.06.94-2.06 2.06-.94-2.06-.94-.94-2.06-.94 2.06-2.06.94zm-11 1L8.5 8.5l.94-2.06 2.06-.94-2.06-.94L8.5 2.5l-.94 2.06-2.06.94zm10 10l.94 2.06.94-2.06 2.06-.94-2.06-.94-.94-2.06-.94 2.06-2.06.94z\"/><path d=\"M17.41 7.96l-1.37-1.37c-.4-.4-.92-.59-1.43-.59-.52 0-1.04.2-1.43.59L10.3 9.45l-7.72 7.72c-.78.78-.78 2.05 0 2.83L4 21.41c.39.39.9.59 1.41.59.51 0 1.02-.2 1.41-.59l7.78-7.78 2.81-2.81c.8-.78.8-2.07 0-2.86zM5.41 20L4 18.59l7.72-7.72 1.47 1.35L5.41 20z\"/>\n",
              "  </svg>\n",
              "      </button>\n",
              "      \n",
              "  <style>\n",
              "    .colab-df-container {\n",
              "      display:flex;\n",
              "      flex-wrap:wrap;\n",
              "      gap: 12px;\n",
              "    }\n",
              "\n",
              "    .colab-df-convert {\n",
              "      background-color: #E8F0FE;\n",
              "      border: none;\n",
              "      border-radius: 50%;\n",
              "      cursor: pointer;\n",
              "      display: none;\n",
              "      fill: #1967D2;\n",
              "      height: 32px;\n",
              "      padding: 0 0 0 0;\n",
              "      width: 32px;\n",
              "    }\n",
              "\n",
              "    .colab-df-convert:hover {\n",
              "      background-color: #E2EBFA;\n",
              "      box-shadow: 0px 1px 2px rgba(60, 64, 67, 0.3), 0px 1px 3px 1px rgba(60, 64, 67, 0.15);\n",
              "      fill: #174EA6;\n",
              "    }\n",
              "\n",
              "    [theme=dark] .colab-df-convert {\n",
              "      background-color: #3B4455;\n",
              "      fill: #D2E3FC;\n",
              "    }\n",
              "\n",
              "    [theme=dark] .colab-df-convert:hover {\n",
              "      background-color: #434B5C;\n",
              "      box-shadow: 0px 1px 3px 1px rgba(0, 0, 0, 0.15);\n",
              "      filter: drop-shadow(0px 1px 2px rgba(0, 0, 0, 0.3));\n",
              "      fill: #FFFFFF;\n",
              "    }\n",
              "  </style>\n",
              "\n",
              "      <script>\n",
              "        const buttonEl =\n",
              "          document.querySelector('#df-d1de4c03-102d-4cce-8213-028bb02e8a24 button.colab-df-convert');\n",
              "        buttonEl.style.display =\n",
              "          google.colab.kernel.accessAllowed ? 'block' : 'none';\n",
              "\n",
              "        async function convertToInteractive(key) {\n",
              "          const element = document.querySelector('#df-d1de4c03-102d-4cce-8213-028bb02e8a24');\n",
              "          const dataTable =\n",
              "            await google.colab.kernel.invokeFunction('convertToInteractive',\n",
              "                                                     [key], {});\n",
              "          if (!dataTable) return;\n",
              "\n",
              "          const docLinkHtml = 'Like what you see? Visit the ' +\n",
              "            '<a target=\"_blank\" href=https://colab.research.google.com/notebooks/data_table.ipynb>data table notebook</a>'\n",
              "            + ' to learn more about interactive tables.';\n",
              "          element.innerHTML = '';\n",
              "          dataTable['output_type'] = 'display_data';\n",
              "          await google.colab.output.renderOutput(dataTable, element);\n",
              "          const docLink = document.createElement('div');\n",
              "          docLink.innerHTML = docLinkHtml;\n",
              "          element.appendChild(docLink);\n",
              "        }\n",
              "      </script>\n",
              "    </div>\n",
              "  </div>\n",
              "  "
            ]
          },
          "metadata": {},
          "execution_count": 4
        }
      ]
    },
    {
      "cell_type": "code",
      "metadata": {
        "id": "SPMt-m1e78VI",
        "outputId": "6fcbe5f9-3b97-4835-d542-fe355049757e",
        "colab": {
          "base_uri": "https://localhost:8080/",
          "height": 206
        }
      },
      "source": [
        "results['error'] = results['y_true'] - results['y_pred']\n",
        "results.head()"
      ],
      "execution_count": 5,
      "outputs": [
        {
          "output_type": "execute_result",
          "data": {
            "text/plain": [
              "       y_true      y_pred      error\n",
              "0   53.937653   55.250412  -1.312759\n",
              "1   91.039996   91.956134  -0.916138\n",
              "2   55.508528   62.038347  -6.529819\n",
              "3  108.412382  126.466072 -18.053690\n",
              "4  107.554107  101.226240   6.327867"
            ],
            "text/html": [
              "\n",
              "  <div id=\"df-23ce8b50-3280-49ab-a735-664a9692539b\">\n",
              "    <div class=\"colab-df-container\">\n",
              "      <div>\n",
              "<style scoped>\n",
              "    .dataframe tbody tr th:only-of-type {\n",
              "        vertical-align: middle;\n",
              "    }\n",
              "\n",
              "    .dataframe tbody tr th {\n",
              "        vertical-align: top;\n",
              "    }\n",
              "\n",
              "    .dataframe thead th {\n",
              "        text-align: right;\n",
              "    }\n",
              "</style>\n",
              "<table border=\"1\" class=\"dataframe\">\n",
              "  <thead>\n",
              "    <tr style=\"text-align: right;\">\n",
              "      <th></th>\n",
              "      <th>y_true</th>\n",
              "      <th>y_pred</th>\n",
              "      <th>error</th>\n",
              "    </tr>\n",
              "  </thead>\n",
              "  <tbody>\n",
              "    <tr>\n",
              "      <th>0</th>\n",
              "      <td>53.937653</td>\n",
              "      <td>55.250412</td>\n",
              "      <td>-1.312759</td>\n",
              "    </tr>\n",
              "    <tr>\n",
              "      <th>1</th>\n",
              "      <td>91.039996</td>\n",
              "      <td>91.956134</td>\n",
              "      <td>-0.916138</td>\n",
              "    </tr>\n",
              "    <tr>\n",
              "      <th>2</th>\n",
              "      <td>55.508528</td>\n",
              "      <td>62.038347</td>\n",
              "      <td>-6.529819</td>\n",
              "    </tr>\n",
              "    <tr>\n",
              "      <th>3</th>\n",
              "      <td>108.412382</td>\n",
              "      <td>126.466072</td>\n",
              "      <td>-18.053690</td>\n",
              "    </tr>\n",
              "    <tr>\n",
              "      <th>4</th>\n",
              "      <td>107.554107</td>\n",
              "      <td>101.226240</td>\n",
              "      <td>6.327867</td>\n",
              "    </tr>\n",
              "  </tbody>\n",
              "</table>\n",
              "</div>\n",
              "      <button class=\"colab-df-convert\" onclick=\"convertToInteractive('df-23ce8b50-3280-49ab-a735-664a9692539b')\"\n",
              "              title=\"Convert this dataframe to an interactive table.\"\n",
              "              style=\"display:none;\">\n",
              "        \n",
              "  <svg xmlns=\"http://www.w3.org/2000/svg\" height=\"24px\"viewBox=\"0 0 24 24\"\n",
              "       width=\"24px\">\n",
              "    <path d=\"M0 0h24v24H0V0z\" fill=\"none\"/>\n",
              "    <path d=\"M18.56 5.44l.94 2.06.94-2.06 2.06-.94-2.06-.94-.94-2.06-.94 2.06-2.06.94zm-11 1L8.5 8.5l.94-2.06 2.06-.94-2.06-.94L8.5 2.5l-.94 2.06-2.06.94zm10 10l.94 2.06.94-2.06 2.06-.94-2.06-.94-.94-2.06-.94 2.06-2.06.94z\"/><path d=\"M17.41 7.96l-1.37-1.37c-.4-.4-.92-.59-1.43-.59-.52 0-1.04.2-1.43.59L10.3 9.45l-7.72 7.72c-.78.78-.78 2.05 0 2.83L4 21.41c.39.39.9.59 1.41.59.51 0 1.02-.2 1.41-.59l7.78-7.78 2.81-2.81c.8-.78.8-2.07 0-2.86zM5.41 20L4 18.59l7.72-7.72 1.47 1.35L5.41 20z\"/>\n",
              "  </svg>\n",
              "      </button>\n",
              "      \n",
              "  <style>\n",
              "    .colab-df-container {\n",
              "      display:flex;\n",
              "      flex-wrap:wrap;\n",
              "      gap: 12px;\n",
              "    }\n",
              "\n",
              "    .colab-df-convert {\n",
              "      background-color: #E8F0FE;\n",
              "      border: none;\n",
              "      border-radius: 50%;\n",
              "      cursor: pointer;\n",
              "      display: none;\n",
              "      fill: #1967D2;\n",
              "      height: 32px;\n",
              "      padding: 0 0 0 0;\n",
              "      width: 32px;\n",
              "    }\n",
              "\n",
              "    .colab-df-convert:hover {\n",
              "      background-color: #E2EBFA;\n",
              "      box-shadow: 0px 1px 2px rgba(60, 64, 67, 0.3), 0px 1px 3px 1px rgba(60, 64, 67, 0.15);\n",
              "      fill: #174EA6;\n",
              "    }\n",
              "\n",
              "    [theme=dark] .colab-df-convert {\n",
              "      background-color: #3B4455;\n",
              "      fill: #D2E3FC;\n",
              "    }\n",
              "\n",
              "    [theme=dark] .colab-df-convert:hover {\n",
              "      background-color: #434B5C;\n",
              "      box-shadow: 0px 1px 3px 1px rgba(0, 0, 0, 0.15);\n",
              "      filter: drop-shadow(0px 1px 2px rgba(0, 0, 0, 0.3));\n",
              "      fill: #FFFFFF;\n",
              "    }\n",
              "  </style>\n",
              "\n",
              "      <script>\n",
              "        const buttonEl =\n",
              "          document.querySelector('#df-23ce8b50-3280-49ab-a735-664a9692539b button.colab-df-convert');\n",
              "        buttonEl.style.display =\n",
              "          google.colab.kernel.accessAllowed ? 'block' : 'none';\n",
              "\n",
              "        async function convertToInteractive(key) {\n",
              "          const element = document.querySelector('#df-23ce8b50-3280-49ab-a735-664a9692539b');\n",
              "          const dataTable =\n",
              "            await google.colab.kernel.invokeFunction('convertToInteractive',\n",
              "                                                     [key], {});\n",
              "          if (!dataTable) return;\n",
              "\n",
              "          const docLinkHtml = 'Like what you see? Visit the ' +\n",
              "            '<a target=\"_blank\" href=https://colab.research.google.com/notebooks/data_table.ipynb>data table notebook</a>'\n",
              "            + ' to learn more about interactive tables.';\n",
              "          element.innerHTML = '';\n",
              "          dataTable['output_type'] = 'display_data';\n",
              "          await google.colab.output.renderOutput(dataTable, element);\n",
              "          const docLink = document.createElement('div');\n",
              "          docLink.innerHTML = docLinkHtml;\n",
              "          element.appendChild(docLink);\n",
              "        }\n",
              "      </script>\n",
              "    </div>\n",
              "  </div>\n",
              "  "
            ]
          },
          "metadata": {},
          "execution_count": 5
        }
      ]
    },
    {
      "cell_type": "markdown",
      "metadata": {
        "id": "JkXYHzBlCrXB"
      },
      "source": [
        "\n",
        "### <a name='a2'></a> Interpretacja graficzna"
      ]
    },
    {
      "cell_type": "code",
      "metadata": {
        "id": "aFdc5zl6_bih",
        "outputId": "fa98d1e6-3461-4740-d05c-004854d6c9e1",
        "colab": {
          "base_uri": "https://localhost:8080/",
          "height": 517
        }
      },
      "source": [
        "def plot_regression_results(y_true, y_pred): \n",
        "    results = pd.DataFrame({'y_true': y_true, 'y_pred': y_pred})\n",
        "    min = results[['y_true', 'y_pred']].min().min()\n",
        "    max = results[['y_true', 'y_pred']].max().max()\n",
        "\n",
        "    fig = go.Figure(data=[go.Scatter(x=results['y_true'], y=results['y_pred'], mode='markers'),\n",
        "                    go.Scatter(x=[min, max], y=[min, max])],\n",
        "                    layout=go.Layout(showlegend=False, width=800, height=500,\n",
        "                                     xaxis_title='y_true', \n",
        "                                     yaxis_title='y_pred',\n",
        "                                     title='Regression results'))\n",
        "    fig.show()\n",
        "plot_regression_results(y_true, y_pred)"
      ],
      "execution_count": 6,
      "outputs": [
        {
          "output_type": "display_data",
          "data": {
            "text/html": [
              "<html>\n",
              "<head><meta charset=\"utf-8\" /></head>\n",
              "<body>\n",
              "    <div>            <script src=\"https://cdnjs.cloudflare.com/ajax/libs/mathjax/2.7.5/MathJax.js?config=TeX-AMS-MML_SVG\"></script><script type=\"text/javascript\">if (window.MathJax && window.MathJax.Hub && window.MathJax.Hub.Config) {window.MathJax.Hub.Config({SVG: {font: \"STIX-Web\"}});}</script>                <script type=\"text/javascript\">window.PlotlyConfig = {MathJaxConfig: 'local'};</script>\n",
              "        <script src=\"https://cdn.plot.ly/plotly-2.18.2.min.js\"></script>                <div id=\"bd1098cd-8350-40e1-8e22-779776068127\" class=\"plotly-graph-div\" style=\"height:500px; width:800px;\"></div>            <script type=\"text/javascript\">                                    window.PLOTLYENV=window.PLOTLYENV || {};                                    if (document.getElementById(\"bd1098cd-8350-40e1-8e22-779776068127\")) {                    Plotly.newPlot(                        \"bd1098cd-8350-40e1-8e22-779776068127\",                        [{\"mode\":\"markers\",\"x\":[53.93765348937583,91.0399955215453,55.508528056369116,108.41238241541721,107.55410711126092,120.21922785375065,90.24528195951203,95.61767801853236,95.90528616961001,78.60539252945937,100.82337885968036,99.89831874312114,110.04564976962196,122.0284173514952,92.25437333402454,92.46242229866259,138.19940788771368,73.18044639753512,74.13613510289413,136.1917932682857,107.38024547669588,70.5929910509083,125.1175460656754,122.5934151544233,81.66917942016674,73.17424898515178,99.79142691130919,120.23410424264893,123.25190130299282,79.2077669627018,98.29685606161202,91.66664209024047,144.92943907507407,130.14381267209532,113.54116247595347,104.01280155287377,99.57348931377737,77.22223762874242,107.79121148095,62.084867272085106,79.05741375646721,104.04423341351364,94.25962761653415,116.29011362745645,107.59643936966329,94.30369400357901,106.53043305241147,73.64460554158231,89.50277973867428,85.63758497177074],\"y\":[55.250412001072846,91.95613367937219,62.03834747520391,126.46607228987774,101.22624011433764,111.37513267503195,81.35606784708102,107.39879558349652,113.2762910040276,81.64946528053959,97.7403532209305,84.84399154802553,109.249836448218,136.81795530413837,82.97270766341497,93.64941600513578,137.93469249601583,83.93389960447057,70.68729705708589,128.68311648055578,100.9099747670818,75.8794564032479,127.32173488832247,131.69655170698368,86.5119694317543,62.62790196293344,92.45276085191391,118.16944568599888,105.73358578192456,76.49259532791847,91.1477515776689,104.26095286858808,131.05979709674645,120.50191611298894,120.603120633228,104.29490004164688,90.5202949127728,84.2776815036952,127.68207552709842,73.14702117877965,98.57719487687075,104.79206324456588,102.65408483403156,114.3474056274038,114.31789091692482,101.3142560176215,115.4383053117349,69.63118520483967,80.01811461809261,67.10280367778671],\"type\":\"scatter\"},{\"x\":[53.93765348937583,144.92943907507407],\"y\":[53.93765348937583,144.92943907507407],\"type\":\"scatter\"}],                        {\"height\":500,\"showlegend\":false,\"title\":{\"text\":\"Regression results\"},\"width\":800,\"xaxis\":{\"title\":{\"text\":\"y_true\"}},\"yaxis\":{\"title\":{\"text\":\"y_pred\"}},\"template\":{\"data\":{\"histogram2dcontour\":[{\"type\":\"histogram2dcontour\",\"colorbar\":{\"outlinewidth\":0,\"ticks\":\"\"},\"colorscale\":[[0.0,\"#0d0887\"],[0.1111111111111111,\"#46039f\"],[0.2222222222222222,\"#7201a8\"],[0.3333333333333333,\"#9c179e\"],[0.4444444444444444,\"#bd3786\"],[0.5555555555555556,\"#d8576b\"],[0.6666666666666666,\"#ed7953\"],[0.7777777777777778,\"#fb9f3a\"],[0.8888888888888888,\"#fdca26\"],[1.0,\"#f0f921\"]]}],\"choropleth\":[{\"type\":\"choropleth\",\"colorbar\":{\"outlinewidth\":0,\"ticks\":\"\"}}],\"histogram2d\":[{\"type\":\"histogram2d\",\"colorbar\":{\"outlinewidth\":0,\"ticks\":\"\"},\"colorscale\":[[0.0,\"#0d0887\"],[0.1111111111111111,\"#46039f\"],[0.2222222222222222,\"#7201a8\"],[0.3333333333333333,\"#9c179e\"],[0.4444444444444444,\"#bd3786\"],[0.5555555555555556,\"#d8576b\"],[0.6666666666666666,\"#ed7953\"],[0.7777777777777778,\"#fb9f3a\"],[0.8888888888888888,\"#fdca26\"],[1.0,\"#f0f921\"]]}],\"heatmap\":[{\"type\":\"heatmap\",\"colorbar\":{\"outlinewidth\":0,\"ticks\":\"\"},\"colorscale\":[[0.0,\"#0d0887\"],[0.1111111111111111,\"#46039f\"],[0.2222222222222222,\"#7201a8\"],[0.3333333333333333,\"#9c179e\"],[0.4444444444444444,\"#bd3786\"],[0.5555555555555556,\"#d8576b\"],[0.6666666666666666,\"#ed7953\"],[0.7777777777777778,\"#fb9f3a\"],[0.8888888888888888,\"#fdca26\"],[1.0,\"#f0f921\"]]}],\"heatmapgl\":[{\"type\":\"heatmapgl\",\"colorbar\":{\"outlinewidth\":0,\"ticks\":\"\"},\"colorscale\":[[0.0,\"#0d0887\"],[0.1111111111111111,\"#46039f\"],[0.2222222222222222,\"#7201a8\"],[0.3333333333333333,\"#9c179e\"],[0.4444444444444444,\"#bd3786\"],[0.5555555555555556,\"#d8576b\"],[0.6666666666666666,\"#ed7953\"],[0.7777777777777778,\"#fb9f3a\"],[0.8888888888888888,\"#fdca26\"],[1.0,\"#f0f921\"]]}],\"contourcarpet\":[{\"type\":\"contourcarpet\",\"colorbar\":{\"outlinewidth\":0,\"ticks\":\"\"}}],\"contour\":[{\"type\":\"contour\",\"colorbar\":{\"outlinewidth\":0,\"ticks\":\"\"},\"colorscale\":[[0.0,\"#0d0887\"],[0.1111111111111111,\"#46039f\"],[0.2222222222222222,\"#7201a8\"],[0.3333333333333333,\"#9c179e\"],[0.4444444444444444,\"#bd3786\"],[0.5555555555555556,\"#d8576b\"],[0.6666666666666666,\"#ed7953\"],[0.7777777777777778,\"#fb9f3a\"],[0.8888888888888888,\"#fdca26\"],[1.0,\"#f0f921\"]]}],\"surface\":[{\"type\":\"surface\",\"colorbar\":{\"outlinewidth\":0,\"ticks\":\"\"},\"colorscale\":[[0.0,\"#0d0887\"],[0.1111111111111111,\"#46039f\"],[0.2222222222222222,\"#7201a8\"],[0.3333333333333333,\"#9c179e\"],[0.4444444444444444,\"#bd3786\"],[0.5555555555555556,\"#d8576b\"],[0.6666666666666666,\"#ed7953\"],[0.7777777777777778,\"#fb9f3a\"],[0.8888888888888888,\"#fdca26\"],[1.0,\"#f0f921\"]]}],\"mesh3d\":[{\"type\":\"mesh3d\",\"colorbar\":{\"outlinewidth\":0,\"ticks\":\"\"}}],\"scatter\":[{\"fillpattern\":{\"fillmode\":\"overlay\",\"size\":10,\"solidity\":0.2},\"type\":\"scatter\"}],\"parcoords\":[{\"type\":\"parcoords\",\"line\":{\"colorbar\":{\"outlinewidth\":0,\"ticks\":\"\"}}}],\"scatterpolargl\":[{\"type\":\"scatterpolargl\",\"marker\":{\"colorbar\":{\"outlinewidth\":0,\"ticks\":\"\"}}}],\"bar\":[{\"error_x\":{\"color\":\"#2a3f5f\"},\"error_y\":{\"color\":\"#2a3f5f\"},\"marker\":{\"line\":{\"color\":\"#E5ECF6\",\"width\":0.5},\"pattern\":{\"fillmode\":\"overlay\",\"size\":10,\"solidity\":0.2}},\"type\":\"bar\"}],\"scattergeo\":[{\"type\":\"scattergeo\",\"marker\":{\"colorbar\":{\"outlinewidth\":0,\"ticks\":\"\"}}}],\"scatterpolar\":[{\"type\":\"scatterpolar\",\"marker\":{\"colorbar\":{\"outlinewidth\":0,\"ticks\":\"\"}}}],\"histogram\":[{\"marker\":{\"pattern\":{\"fillmode\":\"overlay\",\"size\":10,\"solidity\":0.2}},\"type\":\"histogram\"}],\"scattergl\":[{\"type\":\"scattergl\",\"marker\":{\"colorbar\":{\"outlinewidth\":0,\"ticks\":\"\"}}}],\"scatter3d\":[{\"type\":\"scatter3d\",\"line\":{\"colorbar\":{\"outlinewidth\":0,\"ticks\":\"\"}},\"marker\":{\"colorbar\":{\"outlinewidth\":0,\"ticks\":\"\"}}}],\"scattermapbox\":[{\"type\":\"scattermapbox\",\"marker\":{\"colorbar\":{\"outlinewidth\":0,\"ticks\":\"\"}}}],\"scatterternary\":[{\"type\":\"scatterternary\",\"marker\":{\"colorbar\":{\"outlinewidth\":0,\"ticks\":\"\"}}}],\"scattercarpet\":[{\"type\":\"scattercarpet\",\"marker\":{\"colorbar\":{\"outlinewidth\":0,\"ticks\":\"\"}}}],\"carpet\":[{\"aaxis\":{\"endlinecolor\":\"#2a3f5f\",\"gridcolor\":\"white\",\"linecolor\":\"white\",\"minorgridcolor\":\"white\",\"startlinecolor\":\"#2a3f5f\"},\"baxis\":{\"endlinecolor\":\"#2a3f5f\",\"gridcolor\":\"white\",\"linecolor\":\"white\",\"minorgridcolor\":\"white\",\"startlinecolor\":\"#2a3f5f\"},\"type\":\"carpet\"}],\"table\":[{\"cells\":{\"fill\":{\"color\":\"#EBF0F8\"},\"line\":{\"color\":\"white\"}},\"header\":{\"fill\":{\"color\":\"#C8D4E3\"},\"line\":{\"color\":\"white\"}},\"type\":\"table\"}],\"barpolar\":[{\"marker\":{\"line\":{\"color\":\"#E5ECF6\",\"width\":0.5},\"pattern\":{\"fillmode\":\"overlay\",\"size\":10,\"solidity\":0.2}},\"type\":\"barpolar\"}],\"pie\":[{\"automargin\":true,\"type\":\"pie\"}]},\"layout\":{\"autotypenumbers\":\"strict\",\"colorway\":[\"#636efa\",\"#EF553B\",\"#00cc96\",\"#ab63fa\",\"#FFA15A\",\"#19d3f3\",\"#FF6692\",\"#B6E880\",\"#FF97FF\",\"#FECB52\"],\"font\":{\"color\":\"#2a3f5f\"},\"hovermode\":\"closest\",\"hoverlabel\":{\"align\":\"left\"},\"paper_bgcolor\":\"white\",\"plot_bgcolor\":\"#E5ECF6\",\"polar\":{\"bgcolor\":\"#E5ECF6\",\"angularaxis\":{\"gridcolor\":\"white\",\"linecolor\":\"white\",\"ticks\":\"\"},\"radialaxis\":{\"gridcolor\":\"white\",\"linecolor\":\"white\",\"ticks\":\"\"}},\"ternary\":{\"bgcolor\":\"#E5ECF6\",\"aaxis\":{\"gridcolor\":\"white\",\"linecolor\":\"white\",\"ticks\":\"\"},\"baxis\":{\"gridcolor\":\"white\",\"linecolor\":\"white\",\"ticks\":\"\"},\"caxis\":{\"gridcolor\":\"white\",\"linecolor\":\"white\",\"ticks\":\"\"}},\"coloraxis\":{\"colorbar\":{\"outlinewidth\":0,\"ticks\":\"\"}},\"colorscale\":{\"sequential\":[[0.0,\"#0d0887\"],[0.1111111111111111,\"#46039f\"],[0.2222222222222222,\"#7201a8\"],[0.3333333333333333,\"#9c179e\"],[0.4444444444444444,\"#bd3786\"],[0.5555555555555556,\"#d8576b\"],[0.6666666666666666,\"#ed7953\"],[0.7777777777777778,\"#fb9f3a\"],[0.8888888888888888,\"#fdca26\"],[1.0,\"#f0f921\"]],\"sequentialminus\":[[0.0,\"#0d0887\"],[0.1111111111111111,\"#46039f\"],[0.2222222222222222,\"#7201a8\"],[0.3333333333333333,\"#9c179e\"],[0.4444444444444444,\"#bd3786\"],[0.5555555555555556,\"#d8576b\"],[0.6666666666666666,\"#ed7953\"],[0.7777777777777778,\"#fb9f3a\"],[0.8888888888888888,\"#fdca26\"],[1.0,\"#f0f921\"]],\"diverging\":[[0,\"#8e0152\"],[0.1,\"#c51b7d\"],[0.2,\"#de77ae\"],[0.3,\"#f1b6da\"],[0.4,\"#fde0ef\"],[0.5,\"#f7f7f7\"],[0.6,\"#e6f5d0\"],[0.7,\"#b8e186\"],[0.8,\"#7fbc41\"],[0.9,\"#4d9221\"],[1,\"#276419\"]]},\"xaxis\":{\"gridcolor\":\"white\",\"linecolor\":\"white\",\"ticks\":\"\",\"title\":{\"standoff\":15},\"zerolinecolor\":\"white\",\"automargin\":true,\"zerolinewidth\":2},\"yaxis\":{\"gridcolor\":\"white\",\"linecolor\":\"white\",\"ticks\":\"\",\"title\":{\"standoff\":15},\"zerolinecolor\":\"white\",\"automargin\":true,\"zerolinewidth\":2},\"scene\":{\"xaxis\":{\"backgroundcolor\":\"#E5ECF6\",\"gridcolor\":\"white\",\"linecolor\":\"white\",\"showbackground\":true,\"ticks\":\"\",\"zerolinecolor\":\"white\",\"gridwidth\":2},\"yaxis\":{\"backgroundcolor\":\"#E5ECF6\",\"gridcolor\":\"white\",\"linecolor\":\"white\",\"showbackground\":true,\"ticks\":\"\",\"zerolinecolor\":\"white\",\"gridwidth\":2},\"zaxis\":{\"backgroundcolor\":\"#E5ECF6\",\"gridcolor\":\"white\",\"linecolor\":\"white\",\"showbackground\":true,\"ticks\":\"\",\"zerolinecolor\":\"white\",\"gridwidth\":2}},\"shapedefaults\":{\"line\":{\"color\":\"#2a3f5f\"}},\"annotationdefaults\":{\"arrowcolor\":\"#2a3f5f\",\"arrowhead\":0,\"arrowwidth\":1},\"geo\":{\"bgcolor\":\"white\",\"landcolor\":\"#E5ECF6\",\"subunitcolor\":\"white\",\"showland\":true,\"showlakes\":true,\"lakecolor\":\"white\"},\"title\":{\"x\":0.05},\"mapbox\":{\"style\":\"light\"}}}},                        {\"responsive\": true}                    ).then(function(){\n",
              "                            \n",
              "var gd = document.getElementById('bd1098cd-8350-40e1-8e22-779776068127');\n",
              "var x = new MutationObserver(function (mutations, observer) {{\n",
              "        var display = window.getComputedStyle(gd).display;\n",
              "        if (!display || display === 'none') {{\n",
              "            console.log([gd, 'removed!']);\n",
              "            Plotly.purge(gd);\n",
              "            observer.disconnect();\n",
              "        }}\n",
              "}});\n",
              "\n",
              "// Listen for the removal of the full notebook cells\n",
              "var notebookContainer = gd.closest('#notebook-container');\n",
              "if (notebookContainer) {{\n",
              "    x.observe(notebookContainer, {childList: true});\n",
              "}}\n",
              "\n",
              "// Listen for the clearing of the current output cell\n",
              "var outputEl = gd.closest('.output');\n",
              "if (outputEl) {{\n",
              "    x.observe(outputEl, {childList: true});\n",
              "}}\n",
              "\n",
              "                        })                };                            </script>        </div>\n",
              "</body>\n",
              "</html>"
            ]
          },
          "metadata": {}
        }
      ]
    },
    {
      "cell_type": "code",
      "metadata": {
        "id": "2j7Zs1XLDGCL",
        "outputId": "dc81654a-8986-42d1-da60-93d18a004adb",
        "colab": {
          "base_uri": "https://localhost:8080/",
          "height": 542
        }
      },
      "source": [
        "y_true = 100 + 20 * np.random.randn(1000)\n",
        "y_pred = y_true + 10 * np.random.randn(1000)\n",
        "results = pd.DataFrame({'y_true': y_true, 'y_pred': y_pred})\n",
        "results['error'] = results['y_true'] - results['y_pred']\n",
        "\n",
        "px.histogram(results, x='error', nbins=50, width=800)"
      ],
      "execution_count": 7,
      "outputs": [
        {
          "output_type": "display_data",
          "data": {
            "text/html": [
              "<html>\n",
              "<head><meta charset=\"utf-8\" /></head>\n",
              "<body>\n",
              "    <div>            <script src=\"https://cdnjs.cloudflare.com/ajax/libs/mathjax/2.7.5/MathJax.js?config=TeX-AMS-MML_SVG\"></script><script type=\"text/javascript\">if (window.MathJax && window.MathJax.Hub && window.MathJax.Hub.Config) {window.MathJax.Hub.Config({SVG: {font: \"STIX-Web\"}});}</script>                <script type=\"text/javascript\">window.PlotlyConfig = {MathJaxConfig: 'local'};</script>\n",
              "        <script src=\"https://cdn.plot.ly/plotly-2.18.2.min.js\"></script>                <div id=\"96dba97b-ccb5-4eef-944f-3d4223f505cb\" class=\"plotly-graph-div\" style=\"height:525px; width:800px;\"></div>            <script type=\"text/javascript\">                                    window.PLOTLYENV=window.PLOTLYENV || {};                                    if (document.getElementById(\"96dba97b-ccb5-4eef-944f-3d4223f505cb\")) {                    Plotly.newPlot(                        \"96dba97b-ccb5-4eef-944f-3d4223f505cb\",                        [{\"alignmentgroup\":\"True\",\"bingroup\":\"x\",\"hovertemplate\":\"error=%{x}<br>count=%{y}<extra></extra>\",\"legendgroup\":\"\",\"marker\":{\"color\":\"#636efa\",\"pattern\":{\"shape\":\"\"}},\"name\":\"\",\"nbinsx\":50,\"offsetgroup\":\"\",\"orientation\":\"v\",\"showlegend\":false,\"x\":[3.8051880825795763,-8.351757711026437,18.715752154523727,11.372694371010923,-10.606357939078876,-7.235334545415114,-7.433276800905304,16.36675596293385,3.2627297156386135,-0.6632293180150413,17.938077382644124,-9.70203001521709,-14.197839825549991,4.137825847283679,-4.148804455879258,7.8671446185165905,-2.3497457674180566,3.475655860863725,-23.851701273063995,-12.787565482649853,20.116978764151924,-7.647158726525802,-14.240543767982572,16.306329087723427,13.175215627534143,20.802970858882603,6.070001759578545,-8.284355432852436,-12.512876812455701,-9.382658670099104,-7.510487822001579,12.126797939332164,11.20975759393815,16.188260259568963,-7.406570584652002,-0.6403885248434023,-8.701278943153966,16.47556922896932,14.682651476529813,-15.951917687218447,-6.600777516239177,-12.874260874425872,-0.8827815470577605,14.175713542968538,4.569871519090455,3.9872441123496714,3.2252001919220703,-7.192125870501712,9.454271231660272,-12.062816227697525,7.398851899174147,22.19984260831086,-4.855200237356115,-22.554755316596697,-9.77610534629305,-0.7759419382513357,-8.889204756386135,-10.00922078776491,4.528004290399579,15.514704453595968,-2.9095789506963,-7.611405284417216,-9.40623055387735,-21.450971228554394,-10.163227579525511,8.526162382186897,2.6319327693284436,6.186598323146754,5.389449058281016,-0.30227077620938303,9.217008097082001,-15.221450775180003,7.520804235520643,6.404888996011607,3.2242312697670172,-2.450834905248101,1.0990103073097117,-11.268790823468919,-8.215163777062926,1.4851145357220332,-1.1323236056813784,0.07036037493338654,2.906132429860662,-10.25905913802157,-0.8063446665069023,10.855325989577523,-10.791078645269835,-1.0018101758818005,2.8275484434019944,-3.1315640789540424,0.7624090924244769,-1.0289327187926176,9.31211245013472,-0.5140194120448314,1.4575801796615195,-3.5847669803889772,2.832621872014755,-3.2877743653708364,11.392395185415701,3.117991255230393,7.977928801324708,3.1735167340288797,-2.171551680310671,-6.817034662469013,-4.034935172569632,-4.045369625137425,16.912301858533667,12.762409248818798,1.6198778575919732,-6.764526581747319,13.866525097986411,5.467649788596134,-1.972219284640829,4.355562126990563,8.45182252210622,6.322932060295301,16.635315057026347,-0.36944440944323276,9.129955858994222,30.035563602979423,-9.294260080335022,0.6288659937677608,11.43317877997606,3.6800113084774466,-0.7973190115042996,-21.680454585949235,-5.7950782225533715,1.749664848491058,18.10632290612442,-0.09828963680895697,6.49093069823185,1.6982237613447921,8.84844200106751,-5.737967922633203,10.692189051670724,8.050318289048903,15.305063279784534,11.259027711307233,9.31479481161864,-22.58408061676532,-4.077924272835304,-5.655756529995614,4.56159569036987,-12.773819757682602,3.6109966923539076,4.753176265070621,-11.574342987798019,5.906206958958606,-3.342966630997495,26.97558100302932,1.6678602719982791,7.114482647673668,-7.304503500724422,-5.657174111716145,-4.316903815945764,-5.660622208820541,14.190382309744848,-0.6401266327289932,-14.175474247061544,-19.05004508006924,1.8480030873433435,10.111910300314179,-7.471161133399633,4.731795642215658,-7.680420897851548,-2.0052823664766777,-9.423926866394453,8.196777779144611,-2.6456309559469986,18.83106144370936,2.421109611189351,19.66599597470055,11.313744858556745,-15.512637214309677,6.066960723361369,-17.730497782561685,-10.161194611394976,-2.618154923136373,-10.797480749245892,-3.50229586695437,-20.16486045321848,13.032924130249555,-14.827328657668716,0.9096571379215135,-4.2974026072880065,7.03893413399085,-2.750998584758335,10.702217109085765,-4.449330376447421,-5.8667965286899175,8.635594242896559,9.133006150676763,21.194501110875024,-10.012217256165883,10.323750102905876,-6.07192184804299,-16.90309105073456,-7.061472498304198,-18.664187531859596,-16.9252524289046,1.7872514250369704,-6.912814944378496,-18.222591559033162,7.652742782502216,3.806200638242217,3.217623480757055,-3.2583640500130997,2.7996355319994137,-0.4012147534648136,11.880642225710176,-7.1231806163949045,-1.7108178413388657,-9.201743487295971,-7.346096163474911,13.875440228314666,0.712395575647534,12.0863027913,-3.1903747848903095,-8.537661544127474,9.050594488571477,20.06308336412772,0.3888053024747933,0.8695465600741556,4.887912989816456,-9.338589595564656,9.34263659906361,-12.916430694935343,8.687903821408383,-13.970096969318831,16.470281044744084,6.4335560691312,15.124792580331473,-31.25642088982525,6.655456699102132,12.216991638585554,-8.211230349779242,-1.9434751757550117,-0.10228425693992449,-6.526092195500254,13.552333496523943,-14.364893971087,-2.6448246565250884,-8.897434866669158,-0.03348777499637379,6.236183322649538,0.6300537391864793,-11.44723870004539,7.033956985805858,6.471059140493296,4.999578108250546,-6.794513004864413,18.38755934966501,-8.372721690883736,9.735888864039765,8.980199218299362,-5.975639354843054,23.360132519236103,5.937074686613499,-8.560129471442494,-3.5519158345784803,-16.981612404596547,2.895685751362109,-10.92609302416541,-1.3000780689756937,-6.100270727009956,-8.08780993118306,12.340276475235825,-6.098744059789269,7.116800890845184,-5.7915491025372035,3.232915515292902,-2.3921648945100316,6.092561723427025,-7.761847375109255,-4.037241629921965,16.548968815287182,9.19513220371222,0.7546043836765364,-18.532916551658047,9.865110590217625,14.445796226207463,9.094400964263542,-1.6577905042192498,-15.459036813221758,21.53367658595441,-1.9902949946186652,-17.71244943574328,2.6213910344837785,-9.886303906308356,8.606881338790373,-4.152870343497014,-18.567551623069903,3.6031738905028305,-5.440504747329925,4.564577374050344,-16.745164514337517,-6.969461439773653,-8.012864778680225,-0.19542750834854417,-15.95568973446747,-12.013395508273604,-4.228902190139024,-2.6295660181107223,4.391684412762601,6.609955770971567,21.929371915597685,16.98456642586453,6.604096811362467,0.8397478051495568,-6.079501200216043,-16.355410189659736,3.7717795042162976,-6.953653013226372,-3.8127419199732344,3.9017530450023514,-6.416984492233254,-13.261100367873993,-1.5004987199847477,16.52102379176324,5.662651619160158,13.024195045443008,-2.263319531628156,8.24646629070763,-13.61603181546441,3.8082028461973323,5.659867291098138,-3.2908726819408827,-1.4107856447469374,15.548076393354307,0.6660793700165186,1.762501352994292,9.347631476771205,2.8683052705027166,-10.6026423514474,-8.747440811399457,1.7580239354750802,-4.657798714822789,7.8865736570216285,-13.526557957703886,2.8897660005266914,-8.795693671098348,-2.5846579515633294,10.949344085653934,-9.660545443108262,-11.12328161516919,-5.839413662065795,1.976050310916733,-1.5385241719316127,-1.0653512289117373,9.759332325980893,4.549468615873366,12.885840768119138,10.922490273193077,6.4289790858008615,-3.623782669518178,13.945765734227322,1.0391292094396931,5.844056267250352,-13.395166246809424,2.046791694393903,-5.137634982045185,-4.735516714489151,14.257295156996612,9.843582436749173,-2.404901909988766,0.2647430461219358,4.581752973594675,0.5795520694696421,-9.79277499090746,3.320785198664751,6.5579658582472575,7.408617501967541,-4.068850912952456,-7.902813930587925,-1.1094594815487966,-1.4263119955683266,0.717652572321839,3.6064922067621694,8.645647458564326,17.679885048697557,-19.05796342324696,-3.4445885683913815,2.799051002268115,-9.180679737788125,11.057750459374958,-2.290719464574721,9.985699879491307,3.4417663246427566,-6.223723015571792,-7.264688775650882,1.2611586874572254,18.0367132611849,-1.527381609919317,-0.7755683536129823,19.259312600511336,-3.3411179845999754,-12.555186875927703,-3.3898039300229073,-8.8516811702236,5.419664067500321,-2.9862695866223987,8.67571926079816,19.111877401243618,-16.72101174195963,2.3516887027228677,-12.153001679285836,15.369660096602189,-9.6939335607629,-14.16954883765598,7.076538721559672,-7.342210993585439,0.5072812770082606,-25.081241445417874,14.642512172822748,0.7219878259201948,-19.084083683382005,14.637739424736615,-8.058238380462186,6.488566603609328,1.105622296168363,-5.514067888732328,2.159258594132936,-8.431427481786415,1.0161535984338315,3.6105093867216596,-10.129828696551385,-0.016335288257181446,-5.619556117071696,-0.2420933369116085,2.0962120587346362,-2.5770958849631427,4.958279044168208,1.929581592630612,-7.344963369104121,10.465686790290775,-8.103473477909318,-14.378922181316995,-18.233139445326643,10.751530390739262,2.6923864188217976,-17.00015916333787,-16.31592653771318,7.886486572034997,-15.679477988655748,-7.481887933824012,5.5184722684378755,8.170952709407757,18.628451455958327,2.092492284743386,-4.773861407474271,-6.8591177663665945,-7.310305901352933,-1.7964427156981913,-7.079308589570346,-5.690678435603672,0.6447774066304817,0.5207289874149836,-7.597366552352355,14.701924728811122,18.602697436129603,-8.753265804949237,13.292890540146288,1.2069935924291428,1.1242178772815237,-17.76295216828484,-3.8882930048722812,-6.419069587346655,-7.570746980138125,20.3782047842561,12.284876038751051,-15.521540119772425,-22.165727555064365,19.427003096289525,20.358623171806784,-5.295723298473035,-1.0118524017689339,-4.80417987479035,-3.0476404136334594,-20.565093939643248,0.8908077146056854,15.281275910947883,-8.997085797002768,-6.716586456282755,7.363029932113363,-1.2466284697794663,-5.63495033356611,-21.495356502901814,-8.245591137223812,-21.7575056531021,-1.4034032467411635,-8.592802246389198,19.527562080739457,-13.819604419070174,-5.977414462393469,8.151078675605433,3.0191359740261845,5.700737752579002,6.759563093099629,-0.005834955848285972,5.233059256743061,14.91947697015543,4.140703702925833,-9.479545679380607,13.699026988479162,8.7082545702076,11.613943910334427,-15.16880890061141,-1.570286336936661,7.968413825921061,0.5251675377130312,11.984834997932921,-5.4431989975741715,20.815509310867213,-1.489799675156803,-17.642274933237076,-11.807941208475086,-2.025604247099693,1.6604876869542267,-8.185896007774488,3.6395153557648143,-9.266238419796935,-12.469652921556602,6.175035423466383,1.5587769212673805,-10.782096055692548,7.576431334120073,-6.576014917451545,1.979426677853894,-2.0793389005314253,-10.947629283751994,10.645610632638608,14.851372082539683,-18.844435144961793,10.633484519780069,-7.208580665467821,10.259557850513005,7.701853239734376,15.46772813765422,-0.9712071935596356,-12.40839661056826,5.580121818856043,4.406368833557735,6.543519460878159,-1.1443916999983514,6.057546573136989,-16.810346412635283,8.403791023932115,-6.22902661499657,-14.595552062284284,3.0950483263298736,-0.6894402043281218,-7.541169167777056,-9.93874059962448,15.18334937990555,16.97533199332242,11.562248423245961,-6.3644831531943,-5.519033333826712,5.061961029354379,-2.3272049902383287,-7.275237810244533,-17.305861483765156,10.978468781200121,3.9834335069905222,8.171651622191547,-10.248301341588103,9.852324625886098,7.6585618273551646,-0.6382861542104834,-5.338881643703118,-0.6576676755371551,3.6573693456912366,5.866845128132212,-8.602164689352776,-13.147014049539123,1.2728424762087371,32.965673366326854,-8.571994101045448,-33.38931213435406,9.628588830853843,-10.625318701132102,10.305010083938129,18.11516314726323,-9.260386670101028,1.0475178314947442,-2.2339828643487323,9.42843287688261,17.289961207405213,-12.485051088081889,-6.103400847502428,-10.416717573158692,6.256974646471704,-0.13507966895431878,4.886529886869553,8.867684519841845,12.958321879157339,-10.579233300125367,7.606717593842504,-0.5817186618688623,-4.896697738705328,3.1789316910609244,-12.53955651653061,-9.704303330159718,-4.484440590079544,8.776061131094536,3.926141084309066,-15.758799281221286,5.400522305212618,-4.27827482723869,-4.040030574480795,-1.8478754201409515,9.607624715442157,19.823009515581234,13.347188112726144,14.558614603455126,21.406103467093416,-10.565464211200151,5.659006599757376,-26.327860049409338,8.725805871949873,6.592664780902879,-6.320297248931311,-1.9867107498205598,-13.895145736652495,-5.293642002154456,-3.163333586068134,2.3894689318738784,-6.064703347543485,8.354306735831727,1.9513081444504934,0.9090754375720991,-1.2190491680394615,26.330349984807654,-13.993045269942016,-11.342588471360614,6.23235049181892,4.967370405920818,19.922373166893948,0.8958661209574643,1.8579976442167094,8.596589420433176,-3.9524452524050417,14.775524886902929,-9.381330710565464,4.229835019239189,-0.36945824161162477,4.056423477627256,-8.581171869873202,2.843385728316065,-7.205263358627462,-5.329083486054046,15.074070182471587,-0.12464475412903653,-1.8084545156023353,13.886145132301479,11.458573451106133,-1.7921611930169945,1.9836315765169843,7.035417509989301,-1.541474832804667,8.651967054103466,-2.927944241267795,5.568903424987802,14.208151209789705,-6.133735559801593,-13.462670650740193,-10.485449571237368,-16.8138409436918,10.452164177354035,5.0479023081355905,-3.7580952653590174,7.354303807413402,13.602050407598881,12.184268284092738,-10.303712215246321,-3.776695529733587,1.088721302429704,-1.0866961622586189,-16.73215045792479,4.287283140500634,6.00634576904487,0.37319321032616415,-12.49283946522803,-0.7532631216073895,23.39938228897232,-16.935588692222183,-3.0593856011195157,-8.06913702965386,-2.315998805120273,-8.85817349799072,-6.460573914787119,-14.101707936860613,-10.16850199390602,-14.990069961874894,6.973651551688562,-13.66926877961643,-12.608853926036176,7.0708770065124185,16.980469453527704,8.95334616683347,1.4824379170830042,-7.535172040639139,-4.5301863494326255,9.677315254991086,-4.874187061762541,1.6160254173903539,-10.304644145289885,2.3740401353948926,-7.364450186100356,5.821808495209325,8.843303060577739,-0.5980365202167235,4.311178057879204,-12.73249830504706,3.614015113626209,10.131853023988256,15.299651594283247,-19.353282193393298,24.12059757080138,9.264773931392767,-13.25684318586353,-8.193108877417274,11.442404082039388,-3.7342280093981373,-4.8414259041201575,2.830988813727444,12.007584346177211,-3.8985840832807384,-3.6974432485874473,1.6790333686871293,4.673152666960291,10.485017810557757,-11.149067703359435,1.549558806726509,1.0822693323840582,-7.631793162350377,3.4214562193578786,4.891866076583796,-7.40332666844202,-0.6144958110513983,0.9497961639583963,-4.328073122307586,0.2168743138124256,0.731946637546173,-12.878429521596217,19.492103250784268,-9.663411332429746,6.009394973605339,-6.785159049198285,-8.818648009047195,7.656979228961845,4.573887228728225,3.477835464442137,11.11523447614637,1.4739020833172134,-10.20814656842721,0.23454056067751594,-0.007682594854230729,8.093527297822291,-3.5930359917867207,-3.709814792499259,5.927451026100101,-5.272815583505533,-12.409560756731182,-5.607352972362833,-13.443202577972855,7.41224802515859,2.3320844349590004,-0.7151137472970817,-10.4983129777181,-4.781249106670202,5.0292137953145755,-9.507771488692669,2.957706386654877,-15.863975324768376,3.3995261683611773,22.607506605310334,-3.1820581771681873,7.6569358410477975,7.210187332294922,8.023369715485558,0.9273589471050343,-10.956349688541437,-3.7202804070028037,-12.954439804524881,1.9168134137474908,-10.124815731817009,9.8591655197433,-1.5807365201550567,-2.0571624524792824,-5.264405376446405,-10.727361585126829,-2.2288288642018017,-21.838730492828915,-7.6376088864049905,-1.7832754132313937,7.347698994485697,16.26381532222325,19.545036897831352,13.841232485743646,-1.3878088546783545,8.955102382499106,13.540872162348258,6.5085535240268655,16.69370187721897,-8.401633687213433,-14.176022926286024,12.467969106531271,6.234315814524237,-1.3201978887944534,-11.150134728240175,20.943474483422335,7.295646760699697,-5.873629718648928,-2.310388088263025,-4.939542661946788,2.738872338743036,-2.9633534215035837,1.7672081488557438,4.054934340378807,18.009724501233848,14.967990011599866,9.958577778873277,6.715520610212849,-2.586029193600055,11.87504056843865,-4.39556567882704,-4.091743394723935,5.370408145742317,-19.159314056464282,-20.021420483922483,3.742418278544065,-9.593141657128108,0.6399479687385821,-8.3566373104521,6.511207034462501,0.8797967041334687,1.7865977952020557,-10.634516004156325,-9.844994376959932,-1.3265541150106657,16.47812587352722,-9.862801712810679,-11.122495939650634,1.1945169926627273,-8.871987109620804,0.4192672163697182,-2.182274190353553,0.5105938309492899,-1.46103160605891,1.408853931530274,-1.874996567016865,-3.628480815901895,-1.0566883510074945,-13.859566198665789,-3.036844597868651,6.410051396282299,10.041733889993381,10.014449416182657,-9.552230277790173,5.021218747559885,22.758362821322635,15.435559763518938,18.676599407289274,-13.007331606700788,9.988430509854751,-21.45456994039887,-1.028088700921856,-3.013235671612769,6.978113909178404,-10.01786218735728,-6.965550592254104,4.677686940591059,-0.34173844335523995,-1.3257724393965589,-4.433788598679044,9.88165045678025,5.016031973787804,6.590199251629684,-4.572159470146687,3.631354191835868,1.023900098166095,15.899123750771345,-6.278187173245286,-15.910573905495625,-3.2474906678285578,-9.944245993675963,12.01918070426666,-10.758493714938922,13.387300310464255,1.325904749321495,-18.612102457432826,-12.357393689337258,4.722468853063731,9.22470241769841,3.855878528820327,-9.546490675471063,-10.241331076665105,8.78560162440624,-3.171764212666389,4.690840941653377,22.343924189539763,-5.982311570639382,21.961127579771826,-9.905112288097797,17.46671432315256,-22.02285506816088,-3.7749657963635315,-18.48179503846562,-0.6035124201836481,11.277568785085109,9.296733667193735,2.4231944327090815,-0.6175522825033113,3.884592459933941,-19.030350953968423,1.8968606642354757,-11.129995654627379,-9.924928641355223,11.446806053300435,1.2703185358977862,-7.014410247561614,-1.0151175669843155,9.990027196165514,8.651408459937286,-0.46847758176775756,2.019146391395836,-14.619712971294405,-2.3350056514066893,3.498327110002066,15.476643658729628,5.104575446000965,0.8730713515904114,5.282496752603748,-6.699213926842049,-6.073801526995808,2.9604506955699463,-0.5068851424422576,2.2910609802667636,-12.234803499081792,-5.9533386603858105,11.32667857188595,-8.010734041361303,21.924562183634052,12.343268205180976,25.311213066645266,-5.866554222824178,-2.624465723908699,5.3729621293659875,2.324743925728484,9.654857240720403,5.051747248927356,-6.262553286911071,5.883036179824799,-5.233186780481162,6.415810362257844,4.566038978637337,-6.291087735696777,1.7386438139915867,0.7279014260575281,16.266275695319294,-4.41445274787543,6.184980302462236,19.534265524149518,-1.2107836727507362,-18.175117999512693,22.322403155867747,14.998003061406934,3.720426359387858,0.8910010185323358,6.421206913548772,13.655681709249649,-10.638376253027985,2.447674267693415,-9.117721916227978,7.171892291388332,-11.074768415651036,-2.386385425776652,21.360252918723198,1.376483188567363,5.382114559652408,-1.791915062299708,-9.477280499482177,3.5265943205943415,0.7247479743101053,5.054680511642758,12.212844502238582,10.855855859010447,4.348922513502373,16.38780312389261,7.838904822142538,-3.2380329787228845,3.9501676651311612,-5.7122453100491555,12.635523882894255,9.270085286422955,20.006234323173402,-7.272860914894011,-10.533700579940941,11.140454273138843],\"xaxis\":\"x\",\"yaxis\":\"y\",\"type\":\"histogram\"}],                        {\"template\":{\"data\":{\"histogram2dcontour\":[{\"type\":\"histogram2dcontour\",\"colorbar\":{\"outlinewidth\":0,\"ticks\":\"\"},\"colorscale\":[[0.0,\"#0d0887\"],[0.1111111111111111,\"#46039f\"],[0.2222222222222222,\"#7201a8\"],[0.3333333333333333,\"#9c179e\"],[0.4444444444444444,\"#bd3786\"],[0.5555555555555556,\"#d8576b\"],[0.6666666666666666,\"#ed7953\"],[0.7777777777777778,\"#fb9f3a\"],[0.8888888888888888,\"#fdca26\"],[1.0,\"#f0f921\"]]}],\"choropleth\":[{\"type\":\"choropleth\",\"colorbar\":{\"outlinewidth\":0,\"ticks\":\"\"}}],\"histogram2d\":[{\"type\":\"histogram2d\",\"colorbar\":{\"outlinewidth\":0,\"ticks\":\"\"},\"colorscale\":[[0.0,\"#0d0887\"],[0.1111111111111111,\"#46039f\"],[0.2222222222222222,\"#7201a8\"],[0.3333333333333333,\"#9c179e\"],[0.4444444444444444,\"#bd3786\"],[0.5555555555555556,\"#d8576b\"],[0.6666666666666666,\"#ed7953\"],[0.7777777777777778,\"#fb9f3a\"],[0.8888888888888888,\"#fdca26\"],[1.0,\"#f0f921\"]]}],\"heatmap\":[{\"type\":\"heatmap\",\"colorbar\":{\"outlinewidth\":0,\"ticks\":\"\"},\"colorscale\":[[0.0,\"#0d0887\"],[0.1111111111111111,\"#46039f\"],[0.2222222222222222,\"#7201a8\"],[0.3333333333333333,\"#9c179e\"],[0.4444444444444444,\"#bd3786\"],[0.5555555555555556,\"#d8576b\"],[0.6666666666666666,\"#ed7953\"],[0.7777777777777778,\"#fb9f3a\"],[0.8888888888888888,\"#fdca26\"],[1.0,\"#f0f921\"]]}],\"heatmapgl\":[{\"type\":\"heatmapgl\",\"colorbar\":{\"outlinewidth\":0,\"ticks\":\"\"},\"colorscale\":[[0.0,\"#0d0887\"],[0.1111111111111111,\"#46039f\"],[0.2222222222222222,\"#7201a8\"],[0.3333333333333333,\"#9c179e\"],[0.4444444444444444,\"#bd3786\"],[0.5555555555555556,\"#d8576b\"],[0.6666666666666666,\"#ed7953\"],[0.7777777777777778,\"#fb9f3a\"],[0.8888888888888888,\"#fdca26\"],[1.0,\"#f0f921\"]]}],\"contourcarpet\":[{\"type\":\"contourcarpet\",\"colorbar\":{\"outlinewidth\":0,\"ticks\":\"\"}}],\"contour\":[{\"type\":\"contour\",\"colorbar\":{\"outlinewidth\":0,\"ticks\":\"\"},\"colorscale\":[[0.0,\"#0d0887\"],[0.1111111111111111,\"#46039f\"],[0.2222222222222222,\"#7201a8\"],[0.3333333333333333,\"#9c179e\"],[0.4444444444444444,\"#bd3786\"],[0.5555555555555556,\"#d8576b\"],[0.6666666666666666,\"#ed7953\"],[0.7777777777777778,\"#fb9f3a\"],[0.8888888888888888,\"#fdca26\"],[1.0,\"#f0f921\"]]}],\"surface\":[{\"type\":\"surface\",\"colorbar\":{\"outlinewidth\":0,\"ticks\":\"\"},\"colorscale\":[[0.0,\"#0d0887\"],[0.1111111111111111,\"#46039f\"],[0.2222222222222222,\"#7201a8\"],[0.3333333333333333,\"#9c179e\"],[0.4444444444444444,\"#bd3786\"],[0.5555555555555556,\"#d8576b\"],[0.6666666666666666,\"#ed7953\"],[0.7777777777777778,\"#fb9f3a\"],[0.8888888888888888,\"#fdca26\"],[1.0,\"#f0f921\"]]}],\"mesh3d\":[{\"type\":\"mesh3d\",\"colorbar\":{\"outlinewidth\":0,\"ticks\":\"\"}}],\"scatter\":[{\"fillpattern\":{\"fillmode\":\"overlay\",\"size\":10,\"solidity\":0.2},\"type\":\"scatter\"}],\"parcoords\":[{\"type\":\"parcoords\",\"line\":{\"colorbar\":{\"outlinewidth\":0,\"ticks\":\"\"}}}],\"scatterpolargl\":[{\"type\":\"scatterpolargl\",\"marker\":{\"colorbar\":{\"outlinewidth\":0,\"ticks\":\"\"}}}],\"bar\":[{\"error_x\":{\"color\":\"#2a3f5f\"},\"error_y\":{\"color\":\"#2a3f5f\"},\"marker\":{\"line\":{\"color\":\"#E5ECF6\",\"width\":0.5},\"pattern\":{\"fillmode\":\"overlay\",\"size\":10,\"solidity\":0.2}},\"type\":\"bar\"}],\"scattergeo\":[{\"type\":\"scattergeo\",\"marker\":{\"colorbar\":{\"outlinewidth\":0,\"ticks\":\"\"}}}],\"scatterpolar\":[{\"type\":\"scatterpolar\",\"marker\":{\"colorbar\":{\"outlinewidth\":0,\"ticks\":\"\"}}}],\"histogram\":[{\"marker\":{\"pattern\":{\"fillmode\":\"overlay\",\"size\":10,\"solidity\":0.2}},\"type\":\"histogram\"}],\"scattergl\":[{\"type\":\"scattergl\",\"marker\":{\"colorbar\":{\"outlinewidth\":0,\"ticks\":\"\"}}}],\"scatter3d\":[{\"type\":\"scatter3d\",\"line\":{\"colorbar\":{\"outlinewidth\":0,\"ticks\":\"\"}},\"marker\":{\"colorbar\":{\"outlinewidth\":0,\"ticks\":\"\"}}}],\"scattermapbox\":[{\"type\":\"scattermapbox\",\"marker\":{\"colorbar\":{\"outlinewidth\":0,\"ticks\":\"\"}}}],\"scatterternary\":[{\"type\":\"scatterternary\",\"marker\":{\"colorbar\":{\"outlinewidth\":0,\"ticks\":\"\"}}}],\"scattercarpet\":[{\"type\":\"scattercarpet\",\"marker\":{\"colorbar\":{\"outlinewidth\":0,\"ticks\":\"\"}}}],\"carpet\":[{\"aaxis\":{\"endlinecolor\":\"#2a3f5f\",\"gridcolor\":\"white\",\"linecolor\":\"white\",\"minorgridcolor\":\"white\",\"startlinecolor\":\"#2a3f5f\"},\"baxis\":{\"endlinecolor\":\"#2a3f5f\",\"gridcolor\":\"white\",\"linecolor\":\"white\",\"minorgridcolor\":\"white\",\"startlinecolor\":\"#2a3f5f\"},\"type\":\"carpet\"}],\"table\":[{\"cells\":{\"fill\":{\"color\":\"#EBF0F8\"},\"line\":{\"color\":\"white\"}},\"header\":{\"fill\":{\"color\":\"#C8D4E3\"},\"line\":{\"color\":\"white\"}},\"type\":\"table\"}],\"barpolar\":[{\"marker\":{\"line\":{\"color\":\"#E5ECF6\",\"width\":0.5},\"pattern\":{\"fillmode\":\"overlay\",\"size\":10,\"solidity\":0.2}},\"type\":\"barpolar\"}],\"pie\":[{\"automargin\":true,\"type\":\"pie\"}]},\"layout\":{\"autotypenumbers\":\"strict\",\"colorway\":[\"#636efa\",\"#EF553B\",\"#00cc96\",\"#ab63fa\",\"#FFA15A\",\"#19d3f3\",\"#FF6692\",\"#B6E880\",\"#FF97FF\",\"#FECB52\"],\"font\":{\"color\":\"#2a3f5f\"},\"hovermode\":\"closest\",\"hoverlabel\":{\"align\":\"left\"},\"paper_bgcolor\":\"white\",\"plot_bgcolor\":\"#E5ECF6\",\"polar\":{\"bgcolor\":\"#E5ECF6\",\"angularaxis\":{\"gridcolor\":\"white\",\"linecolor\":\"white\",\"ticks\":\"\"},\"radialaxis\":{\"gridcolor\":\"white\",\"linecolor\":\"white\",\"ticks\":\"\"}},\"ternary\":{\"bgcolor\":\"#E5ECF6\",\"aaxis\":{\"gridcolor\":\"white\",\"linecolor\":\"white\",\"ticks\":\"\"},\"baxis\":{\"gridcolor\":\"white\",\"linecolor\":\"white\",\"ticks\":\"\"},\"caxis\":{\"gridcolor\":\"white\",\"linecolor\":\"white\",\"ticks\":\"\"}},\"coloraxis\":{\"colorbar\":{\"outlinewidth\":0,\"ticks\":\"\"}},\"colorscale\":{\"sequential\":[[0.0,\"#0d0887\"],[0.1111111111111111,\"#46039f\"],[0.2222222222222222,\"#7201a8\"],[0.3333333333333333,\"#9c179e\"],[0.4444444444444444,\"#bd3786\"],[0.5555555555555556,\"#d8576b\"],[0.6666666666666666,\"#ed7953\"],[0.7777777777777778,\"#fb9f3a\"],[0.8888888888888888,\"#fdca26\"],[1.0,\"#f0f921\"]],\"sequentialminus\":[[0.0,\"#0d0887\"],[0.1111111111111111,\"#46039f\"],[0.2222222222222222,\"#7201a8\"],[0.3333333333333333,\"#9c179e\"],[0.4444444444444444,\"#bd3786\"],[0.5555555555555556,\"#d8576b\"],[0.6666666666666666,\"#ed7953\"],[0.7777777777777778,\"#fb9f3a\"],[0.8888888888888888,\"#fdca26\"],[1.0,\"#f0f921\"]],\"diverging\":[[0,\"#8e0152\"],[0.1,\"#c51b7d\"],[0.2,\"#de77ae\"],[0.3,\"#f1b6da\"],[0.4,\"#fde0ef\"],[0.5,\"#f7f7f7\"],[0.6,\"#e6f5d0\"],[0.7,\"#b8e186\"],[0.8,\"#7fbc41\"],[0.9,\"#4d9221\"],[1,\"#276419\"]]},\"xaxis\":{\"gridcolor\":\"white\",\"linecolor\":\"white\",\"ticks\":\"\",\"title\":{\"standoff\":15},\"zerolinecolor\":\"white\",\"automargin\":true,\"zerolinewidth\":2},\"yaxis\":{\"gridcolor\":\"white\",\"linecolor\":\"white\",\"ticks\":\"\",\"title\":{\"standoff\":15},\"zerolinecolor\":\"white\",\"automargin\":true,\"zerolinewidth\":2},\"scene\":{\"xaxis\":{\"backgroundcolor\":\"#E5ECF6\",\"gridcolor\":\"white\",\"linecolor\":\"white\",\"showbackground\":true,\"ticks\":\"\",\"zerolinecolor\":\"white\",\"gridwidth\":2},\"yaxis\":{\"backgroundcolor\":\"#E5ECF6\",\"gridcolor\":\"white\",\"linecolor\":\"white\",\"showbackground\":true,\"ticks\":\"\",\"zerolinecolor\":\"white\",\"gridwidth\":2},\"zaxis\":{\"backgroundcolor\":\"#E5ECF6\",\"gridcolor\":\"white\",\"linecolor\":\"white\",\"showbackground\":true,\"ticks\":\"\",\"zerolinecolor\":\"white\",\"gridwidth\":2}},\"shapedefaults\":{\"line\":{\"color\":\"#2a3f5f\"}},\"annotationdefaults\":{\"arrowcolor\":\"#2a3f5f\",\"arrowhead\":0,\"arrowwidth\":1},\"geo\":{\"bgcolor\":\"white\",\"landcolor\":\"#E5ECF6\",\"subunitcolor\":\"white\",\"showland\":true,\"showlakes\":true,\"lakecolor\":\"white\"},\"title\":{\"x\":0.05},\"mapbox\":{\"style\":\"light\"}}},\"xaxis\":{\"anchor\":\"y\",\"domain\":[0.0,1.0],\"title\":{\"text\":\"error\"}},\"yaxis\":{\"anchor\":\"x\",\"domain\":[0.0,1.0],\"title\":{\"text\":\"count\"}},\"legend\":{\"tracegroupgap\":0},\"margin\":{\"t\":60},\"barmode\":\"relative\",\"width\":800},                        {\"responsive\": true}                    ).then(function(){\n",
              "                            \n",
              "var gd = document.getElementById('96dba97b-ccb5-4eef-944f-3d4223f505cb');\n",
              "var x = new MutationObserver(function (mutations, observer) {{\n",
              "        var display = window.getComputedStyle(gd).display;\n",
              "        if (!display || display === 'none') {{\n",
              "            console.log([gd, 'removed!']);\n",
              "            Plotly.purge(gd);\n",
              "            observer.disconnect();\n",
              "        }}\n",
              "}});\n",
              "\n",
              "// Listen for the removal of the full notebook cells\n",
              "var notebookContainer = gd.closest('#notebook-container');\n",
              "if (notebookContainer) {{\n",
              "    x.observe(notebookContainer, {childList: true});\n",
              "}}\n",
              "\n",
              "// Listen for the clearing of the current output cell\n",
              "var outputEl = gd.closest('.output');\n",
              "if (outputEl) {{\n",
              "    x.observe(outputEl, {childList: true});\n",
              "}}\n",
              "\n",
              "                        })                };                            </script>        </div>\n",
              "</body>\n",
              "</html>"
            ]
          },
          "metadata": {}
        }
      ]
    },
    {
      "cell_type": "markdown",
      "metadata": {
        "id": "ZVr1O1j3FFiM"
      },
      "source": [
        "### <a name='a3'></a> Mean Absolute Error - Średni błąd bezwzględny\n",
        "### $$MAE = \\frac{1}{n}\\sum_{i=1}^{n}|y_{true} - y_{pred}|$$"
      ]
    },
    {
      "cell_type": "code",
      "metadata": {
        "id": "4fwXpVNyFXBl",
        "outputId": "55d63b7b-139c-4f9c-838a-4ece0e9dd46d",
        "colab": {
          "base_uri": "https://localhost:8080/"
        }
      },
      "source": [
        "def mean_absolute_error(y_true, y_pred):\n",
        "    return abs(y_true - y_pred).sum() / len(y_true)\n",
        "\n",
        "mean_absolute_error(y_true, y_pred)"
      ],
      "execution_count": 8,
      "outputs": [
        {
          "output_type": "execute_result",
          "data": {
            "text/plain": [
              "8.153039572560465"
            ]
          },
          "metadata": {},
          "execution_count": 8
        }
      ]
    },
    {
      "cell_type": "code",
      "metadata": {
        "id": "nOINyAyqErWz",
        "outputId": "61acf8bb-a1c2-41db-d11a-ab174f152e72",
        "colab": {
          "base_uri": "https://localhost:8080/"
        }
      },
      "source": [
        "from sklearn.metrics import mean_absolute_error\n",
        "mean_absolute_error(y_true, y_pred)"
      ],
      "execution_count": 9,
      "outputs": [
        {
          "output_type": "execute_result",
          "data": {
            "text/plain": [
              "8.153039572560465"
            ]
          },
          "metadata": {},
          "execution_count": 9
        }
      ]
    },
    {
      "cell_type": "markdown",
      "metadata": {
        "id": "dbAtacGCGjaR"
      },
      "source": [
        "### <a name='a4'></a> Mean Squared Error - MSE - Błąd średniokwadratowy\n",
        "### $$MSE = \\frac{1}{n}\\sum_{i=1}^{n}(y_{true} - y_{pred})^{2}$$"
      ]
    },
    {
      "cell_type": "code",
      "metadata": {
        "id": "rikMpoD9E91I",
        "outputId": "0cc5aa52-1f31-4e97-c713-84e74e0f1a71",
        "colab": {
          "base_uri": "https://localhost:8080/"
        }
      },
      "source": [
        "def mean_squared_error(y_true, y_pred):\n",
        "    return ((y_true - y_pred) ** 2).sum() / len(y_true)\n",
        "\n",
        "mean_squared_error(y_true, y_pred)"
      ],
      "execution_count": 10,
      "outputs": [
        {
          "output_type": "execute_result",
          "data": {
            "text/plain": [
              "102.01826498575063"
            ]
          },
          "metadata": {},
          "execution_count": 10
        }
      ]
    },
    {
      "cell_type": "code",
      "metadata": {
        "id": "BxQx5HFaGzi5",
        "outputId": "ee548ad5-b71c-4266-a133-0987bcae57f3",
        "colab": {
          "base_uri": "https://localhost:8080/"
        }
      },
      "source": [
        "from sklearn.metrics import mean_squared_error\n",
        "\n",
        "mean_squared_error(y_true, y_pred)"
      ],
      "execution_count": 11,
      "outputs": [
        {
          "output_type": "execute_result",
          "data": {
            "text/plain": [
              "102.01826498575063"
            ]
          },
          "metadata": {},
          "execution_count": 11
        }
      ]
    },
    {
      "cell_type": "markdown",
      "metadata": {
        "id": "SKJJg3jNG-xj"
      },
      "source": [
        "### <a name='a5'></a> Root Mean Squared Error - RMSE - Pierwiastek błędu średniokwadratowego\n",
        "### $$RMSE = \\sqrt{MSE}$$"
      ]
    },
    {
      "cell_type": "code",
      "metadata": {
        "id": "ZoEokLM8G8JO",
        "outputId": "daba7c05-0c44-462c-d41a-35ec6433934f",
        "colab": {
          "base_uri": "https://localhost:8080/"
        }
      },
      "source": [
        "def root_mean_squared_error(y_true, y_pred):\n",
        "    return np.sqrt(((y_true - y_pred) ** 2).sum() / len(y_true))\n",
        "\n",
        "root_mean_squared_error(y_true, y_pred)"
      ],
      "execution_count": 12,
      "outputs": [
        {
          "output_type": "execute_result",
          "data": {
            "text/plain": [
              "10.100409149423138"
            ]
          },
          "metadata": {},
          "execution_count": 12
        }
      ]
    },
    {
      "cell_type": "code",
      "metadata": {
        "id": "VEdgXl5PHdEQ",
        "outputId": "a93bb40b-cc32-4dbd-d4ee-cc1d85f917de",
        "colab": {
          "base_uri": "https://localhost:8080/"
        }
      },
      "source": [
        "np.sqrt(mean_squared_error(y_true, y_pred))"
      ],
      "execution_count": 13,
      "outputs": [
        {
          "output_type": "execute_result",
          "data": {
            "text/plain": [
              "10.100409149423138"
            ]
          },
          "metadata": {},
          "execution_count": 13
        }
      ]
    },
    {
      "cell_type": "markdown",
      "metadata": {
        "id": "wzS5t7dzIH-x"
      },
      "source": [
        "### <a name='a6'></a>  Max Error - Błąd maksymalny\n",
        "\n",
        "$$ME = max(|y\\_true - y\\_pred|)$$ "
      ]
    },
    {
      "cell_type": "code",
      "metadata": {
        "id": "0v4d3b_FHsYO"
      },
      "source": [
        "def max_error(y_true, y_pred):\n",
        "    return abs(y_true - y_pred).max()"
      ],
      "execution_count": 14,
      "outputs": []
    },
    {
      "cell_type": "code",
      "metadata": {
        "id": "IbSGizXdH1Fc",
        "outputId": "2c936f98-2314-4b11-b9bb-bc8193df3687",
        "colab": {
          "base_uri": "https://localhost:8080/"
        }
      },
      "source": [
        "max_error(y_true, y_pred)"
      ],
      "execution_count": 15,
      "outputs": [
        {
          "output_type": "execute_result",
          "data": {
            "text/plain": [
              "33.38931213435406"
            ]
          },
          "metadata": {},
          "execution_count": 15
        }
      ]
    },
    {
      "cell_type": "code",
      "metadata": {
        "id": "NQPVS0cSIAsC",
        "outputId": "a23e59bb-1065-4422-dc30-959ac9a90bfc",
        "colab": {
          "base_uri": "https://localhost:8080/"
        }
      },
      "source": [
        "from sklearn.metrics import max_error\n",
        "\n",
        "max_error(y_true, y_pred)"
      ],
      "execution_count": 16,
      "outputs": [
        {
          "output_type": "execute_result",
          "data": {
            "text/plain": [
              "33.38931213435406"
            ]
          },
          "metadata": {},
          "execution_count": 16
        }
      ]
    },
    {
      "cell_type": "markdown",
      "metadata": {
        "id": "xRrH2NA5IYt9"
      },
      "source": [
        "### <a name='a7'></a>  R2 score - współczynnik determinacji\n",
        "### $$R2\\_score = 1 - \\frac{\\sum_{i=1}^{N}(y_{true} - y_{pred})^{2}}{\\sum_{i=1}^{N}(y_{true} - \\overline{y_{true}})^{2}}$$"
      ]
    },
    {
      "cell_type": "code",
      "metadata": {
        "id": "ePP8ovwPIGu0",
        "outputId": "2d3b77ca-fb5b-48c7-8376-a9fac66aeb67",
        "colab": {
          "base_uri": "https://localhost:8080/"
        }
      },
      "source": [
        "from sklearn.metrics import r2_score\n",
        "\n",
        "r2_score(y_true, y_pred)"
      ],
      "execution_count": 17,
      "outputs": [
        {
          "output_type": "execute_result",
          "data": {
            "text/plain": [
              "0.7485013790416539"
            ]
          },
          "metadata": {},
          "execution_count": 17
        }
      ]
    },
    {
      "cell_type": "code",
      "metadata": {
        "id": "GWtiZRcPIsdP"
      },
      "source": [
        "def r2_score(y_true, y_pred):\n",
        "    numerator = ((y_true - y_pred) ** 2).sum()\n",
        "    denominator = ((y_true - y_true.mean()) ** 2).sum()\n",
        "    try:\n",
        "        r2 = 1 - numerator / denominator\n",
        "    except ZeroDivisionError:\n",
        "        print('Dzielenie przez zero')\n",
        "    return r2"
      ],
      "execution_count": 18,
      "outputs": []
    },
    {
      "cell_type": "code",
      "metadata": {
        "id": "q4LYk_8oJNTP",
        "outputId": "44325754-780f-4eef-da4c-bd7cd31f968a",
        "colab": {
          "base_uri": "https://localhost:8080/"
        }
      },
      "source": [
        "r2_score(y_true, y_pred)"
      ],
      "execution_count": 19,
      "outputs": [
        {
          "output_type": "execute_result",
          "data": {
            "text/plain": [
              "0.7485013790416539"
            ]
          },
          "metadata": {},
          "execution_count": 19
        }
      ]
    },
    {
      "cell_type": "code",
      "metadata": {
        "id": "xuBi36i72dOY"
      },
      "source": [],
      "execution_count": null,
      "outputs": []
    }
  ]
}