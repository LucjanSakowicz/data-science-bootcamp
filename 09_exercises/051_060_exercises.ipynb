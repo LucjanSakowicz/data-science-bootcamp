{
  "nbformat": 4,
  "nbformat_minor": 0,
  "metadata": {
    "colab": {
      "provenance": [],
      "include_colab_link": true
    },
    "kernelspec": {
      "name": "python3",
      "display_name": "Python 3"
    }
  },
  "cells": [
    {
      "cell_type": "markdown",
      "metadata": {
        "id": "view-in-github",
        "colab_type": "text"
      },
      "source": [
        "<a href=\"https://colab.research.google.com/github/LucjanSakowicz/data-science-bootcamp/blob/main/09_exercises/051_060_exercises.ipynb\" target=\"_parent\"><img src=\"https://colab.research.google.com/assets/colab-badge.svg\" alt=\"Open In Colab\"/></a>"
      ]
    },
    {
      "cell_type": "markdown",
      "metadata": {
        "id": "WLEgCW5F1hho"
      },
      "source": [
        "## Numpy\n",
        "\n",
        "### Spis treści:\n",
        "* [Import biblioteki](#0)\n",
        "* [Ćwiczenie 51](#1)\n",
        "* [Ćwiczenie 52](#2)\n",
        "* [Ćwiczenie 53](#3)\n",
        "* [Ćwiczenie 54](#4)\n",
        "* [Ćwiczenie 55](#5)\n",
        "* [Ćwiczenie 56](#6)\n",
        "* [Ćwiczenie 57](#7)\n",
        "* [Ćwiczenie 58](#8)\n",
        "* [Ćwiczenie 59](#9)\n",
        "* [Ćwiczenie 60](#10)"
      ]
    },
    {
      "cell_type": "markdown",
      "metadata": {
        "id": "zeLOLmTj1kBM"
      },
      "source": [
        "### <a name='0'></a>Import biblioteki"
      ]
    },
    {
      "cell_type": "code",
      "metadata": {
        "id": "HXMB7SMe1Wnz",
        "colab": {
          "base_uri": "https://localhost:8080/",
          "height": 35
        },
        "outputId": "5b3f6fa5-d1f0-49ca-a9be-03d2418c8233"
      },
      "source": [
        "import numpy as np\n",
        "\n",
        "np.random.seed(42)\n",
        "np.__version__"
      ],
      "execution_count": 1,
      "outputs": [
        {
          "output_type": "execute_result",
          "data": {
            "text/plain": [
              "'1.22.4'"
            ],
            "application/vnd.google.colaboratory.intrinsic+json": {
              "type": "string"
            }
          },
          "metadata": {},
          "execution_count": 1
        }
      ]
    },
    {
      "cell_type": "markdown",
      "metadata": {
        "id": "cyc70pMe1oCg"
      },
      "source": [
        "### <a name='1'></a> Ćwiczenie 51\n",
        "Podane są poniżej dwie tablice $A$ i $B$:\n",
        "\n",
        "\n",
        "```\n",
        "A = np.array([[3, 4, 5],\n",
        "              [8, 3, 1]])\n",
        "B = np.array([[0, 5, 2],\n",
        "              [4, 2, 1]])\n",
        "```\n",
        "* Połącz te tablice w następujący sposób:\n",
        "\n",
        "\n",
        "```\n",
        "array([[3, 4, 5],\n",
        "       [8, 3, 1],\n",
        "       [0, 5, 2],\n",
        "       [4, 2, 1]])\n",
        "```\n",
        "__Wskazówka:__ Wykorzystaj funkcję _np.concatenate()_.\n",
        "\n",
        "\n",
        "\n"
      ]
    },
    {
      "cell_type": "code",
      "metadata": {
        "id": "G06kZluT8eIh",
        "colab": {
          "base_uri": "https://localhost:8080/"
        },
        "outputId": "32b79fb0-6fe4-4a74-a6f8-3740e2253c77"
      },
      "source": [
        "A = np.array([[3, 4, 5],\n",
        "              [8, 3, 1]])\n",
        "B = np.array([[0, 5, 2],\n",
        "              [4, 2, 1]])\n",
        "\n",
        "np.concatenate((A, B))"
      ],
      "execution_count": 3,
      "outputs": [
        {
          "output_type": "execute_result",
          "data": {
            "text/plain": [
              "array([[3, 4, 5],\n",
              "       [8, 3, 1],\n",
              "       [0, 5, 2],\n",
              "       [4, 2, 1]])"
            ]
          },
          "metadata": {},
          "execution_count": 3
        }
      ]
    },
    {
      "cell_type": "markdown",
      "metadata": {
        "id": "ODw_gitA98Ul"
      },
      "source": [
        "* Połącz te tablice w następujący sposób:\n",
        "\n",
        "\n",
        "```\n",
        "array([[3, 4, 5, 0, 5, 2],\n",
        "       [8, 3, 1, 4, 2, 1]])\n",
        "```\n",
        "__Wskazówka:__ Wykorzystaj funkcję _np.concatenate()_."
      ]
    },
    {
      "cell_type": "code",
      "metadata": {
        "id": "1pmGjLj88tcf",
        "colab": {
          "base_uri": "https://localhost:8080/"
        },
        "outputId": "b92e8baa-5065-40a1-cdf9-4c1b869b7d74"
      },
      "source": [
        "np.concatenate((A, B), axis=1)"
      ],
      "execution_count": 4,
      "outputs": [
        {
          "output_type": "execute_result",
          "data": {
            "text/plain": [
              "array([[3, 4, 5, 0, 5, 2],\n",
              "       [8, 3, 1, 4, 2, 1]])"
            ]
          },
          "metadata": {},
          "execution_count": 4
        }
      ]
    },
    {
      "cell_type": "markdown",
      "metadata": {
        "id": "J9pY1rtr1sC0"
      },
      "source": [
        "### <a name='2'></a> Ćwiczenie 52\n",
        "Podana jest tablica zawierająca dane _data_ oraz tablica zawierająca docelową klasę dla danego wiersza _target_:\n",
        "\n",
        "```\n",
        "data = np.array([[4.3, 4.2],\n",
        "                 [3.1, 3.6]])\n",
        "target = np.array([[0],\n",
        "                   [1]])\n",
        "```\n",
        "\n"
      ]
    },
    {
      "cell_type": "markdown",
      "metadata": {
        "id": "8cAKF7ok-RjX"
      },
      "source": [
        "Połącz te tablice w jedną tak jak pokazano poniżej:\n",
        "\n",
        "\n",
        "```\n",
        "array([[4.3, 4.2, 0. ],\n",
        "       [3.1, 3.6, 1. ]])\n",
        "```\n",
        "\n"
      ]
    },
    {
      "cell_type": "code",
      "metadata": {
        "id": "4lc68Wfr8z3u",
        "colab": {
          "base_uri": "https://localhost:8080/"
        },
        "outputId": "43f1f1ca-b37c-43ec-fe45-c23ac0a3e97c"
      },
      "source": [
        "data = np.array([[4.3, 4.2],\n",
        "                 [3.1, 3.6]])\n",
        "target = np.array([[0],\n",
        "                   [1]])\n",
        "\n",
        "np.append(data, target, axis=1)"
      ],
      "execution_count": 5,
      "outputs": [
        {
          "output_type": "execute_result",
          "data": {
            "text/plain": [
              "array([[4.3, 4.2, 0. ],\n",
              "       [3.1, 3.6, 1. ]])"
            ]
          },
          "metadata": {},
          "execution_count": 5
        }
      ]
    },
    {
      "cell_type": "markdown",
      "metadata": {
        "id": "XQLYT2m11wVG"
      },
      "source": [
        "### <a name='3'></a> Ćwiczenie 53\n",
        "Podane są trzy poniższe jednowymiarowe tablice:  \n",
        "\n",
        "\n",
        "```\n",
        "feature1 = np.array([1.6, 0.9, 2.2])\n",
        "feature2 = np.array([0.4, 1.3, 3.2])\n",
        "feature3 = np.array([1.4, 0.3, 1.2])\n",
        "```\n",
        "Przekształć każdą z tych tablic w kolumnę i sklej w jedną dużą tablicę.\n",
        "\n",
        "__Oczekiwany wynik:__\n",
        "\n",
        "\n",
        "```\n",
        "array([[1.6, 0.4, 1.4],\n",
        "       [0.9, 1.3, 0.3],\n",
        "       [2.2, 3.2, 1.2]])\n",
        "```\n",
        "\n",
        "__Wskazówka:__ Wykorzystaj funkcję _np.column_stack()_.\n",
        "\n"
      ]
    },
    {
      "cell_type": "code",
      "metadata": {
        "id": "xfPf_vq7-jBP",
        "colab": {
          "base_uri": "https://localhost:8080/"
        },
        "outputId": "a5a57a1d-dca5-4239-f453-a27099e2746c"
      },
      "source": [
        "feature1 = np.array([1.6, 0.9, 2.2])\n",
        "feature2 = np.array([0.4, 1.3, 3.2])\n",
        "feature3 = np.array([1.4, 0.3, 1.2])\n",
        "np.column_stack((feature1, feature2, feature3))"
      ],
      "execution_count": 7,
      "outputs": [
        {
          "output_type": "execute_result",
          "data": {
            "text/plain": [
              "array([[1.6, 0.4, 1.4],\n",
              "       [0.9, 1.3, 0.3],\n",
              "       [2.2, 3.2, 1.2]])"
            ]
          },
          "metadata": {},
          "execution_count": 7
        }
      ]
    },
    {
      "cell_type": "markdown",
      "metadata": {
        "id": "4xTKSUzg10MK"
      },
      "source": [
        "### <a name='4'></a> Ćwiczenie 54\n",
        "Podana jest poniższa dwuwymiarowa tablica:\n",
        "\n",
        "```\n",
        "A = np.random.randint(low=0, high=7, size=(5, 8))\n",
        "A[:, :2] = 0\n",
        "A[:, -2:] = 1\n",
        "A\n",
        "```\n",
        "```\n",
        "array([[0, 0, 4, 6, 2, 4, 1, 1],\n",
        "       [0, 0, 6, 2, 2, 4, 1, 1],\n",
        "       [0, 0, 1, 3, 5, 5, 1, 1],\n",
        "       [0, 0, 3, 1, 5, 4, 1, 1],\n",
        "       [0, 0, 2, 6, 1, 3, 1, 1]])\n",
        "```\n",
        "\n",
        "Podziel tablicę na 3 części tak aby pierwsze dwie kolumny stanowiły pierwszą tablicę $A1$, cztery kolejne drugą tablicę $A2$ oraz dwie ostatnie trzecią tablicę $A3$.\n",
        "\n",
        "__Wskazówka:__ Wykorzystaj funkcję _np.split()_."
      ]
    },
    {
      "cell_type": "code",
      "metadata": {
        "id": "U5MFrLUHBsEf",
        "colab": {
          "base_uri": "https://localhost:8080/"
        },
        "outputId": "85e4a009-94fe-4442-d2d8-db67753e0197"
      },
      "source": [
        "A = np.random.randint(low=0, high=7, size=(5, 8))\n",
        "A[:, :2] = 0\n",
        "A[:, -2:] = 1\n",
        "A1, A2, A3 = np.split(A, [2, 6], axis=1)\n",
        "print(A1)\n",
        "print(A2)\n",
        "print(A3)"
      ],
      "execution_count": 10,
      "outputs": [
        {
          "output_type": "stream",
          "name": "stdout",
          "text": [
            "[[0 0]\n",
            " [0 0]\n",
            " [0 0]\n",
            " [0 0]\n",
            " [0 0]]\n",
            "[[5 5 5 1]\n",
            " [1 1 3 1]\n",
            " [6 6 5 6]\n",
            " [4 1 6 4]\n",
            " [3 4 0 4]]\n",
            "[[1 1]\n",
            " [1 1]\n",
            " [1 1]\n",
            " [1 1]\n",
            " [1 1]]\n"
          ]
        }
      ]
    },
    {
      "cell_type": "markdown",
      "metadata": {
        "id": "o3HKIKlP15Ro"
      },
      "source": [
        "### <a name='5'></a> Ćwiczenie 55\n",
        "Podana jest poniższa tablica $A$:\n",
        "\n",
        "```\n",
        "A = np.random.randint(low=0, high=2, size=(10, 6))\n",
        "```\n",
        "Wyznacz łączną liczbę elementów niezerowych dla tej tablicy.\n",
        "\n",
        "__Wskazówka:__ Wykorzystaj funkcję _np.count_nonzero()_.\n"
      ]
    },
    {
      "cell_type": "code",
      "metadata": {
        "id": "j5E2nOFyDy1b",
        "colab": {
          "base_uri": "https://localhost:8080/"
        },
        "outputId": "4a432ca0-6e53-4b2e-80cc-25849a697174"
      },
      "source": [
        "A = np.random.randint(low=0, high=2, size=(10, 6))\n",
        "np.count_nonzero(A)"
      ],
      "execution_count": 11,
      "outputs": [
        {
          "output_type": "execute_result",
          "data": {
            "text/plain": [
              "21"
            ]
          },
          "metadata": {},
          "execution_count": 11
        }
      ]
    },
    {
      "cell_type": "markdown",
      "metadata": {
        "id": "wJde65uYhJ2f"
      },
      "source": [
        "Wyznacz łączną liczbę elementów niezerowych dla każdego wiersza tej tablicy.\n",
        "\n",
        "__Wskazówka:__ Wykorzystaj funkcję _np.count_nonzero()_."
      ]
    },
    {
      "cell_type": "code",
      "metadata": {
        "id": "BWG-icQuEEPS",
        "colab": {
          "base_uri": "https://localhost:8080/"
        },
        "outputId": "f810e611-531a-4433-d460-ffeac0f3eb60"
      },
      "source": [
        "A = np.random.randint(low=0, high=2, size=(10, 6))\n",
        "np.count_nonzero(A)"
      ],
      "execution_count": 12,
      "outputs": [
        {
          "output_type": "execute_result",
          "data": {
            "text/plain": [
              "28"
            ]
          },
          "metadata": {},
          "execution_count": 12
        }
      ]
    },
    {
      "cell_type": "markdown",
      "metadata": {
        "id": "PunXd_Ey16so"
      },
      "source": [
        "### <a name='6'></a> Ćwiczenie 56\n",
        "Poniżej podana jest przykładowa tablica $A$:\n",
        "\n",
        "```\n",
        "A = np.random.randn(10, 4)\n",
        "```\n",
        "\n",
        "```\n",
        "array([[-0.53441645, -1.49505387, -0.78925833,  0.74371128],\n",
        "       [-0.21216142, -0.42686879,  0.50144833,  1.15818665],\n",
        "       [ 0.25711687,  0.3145129 ,  1.37186213,  0.17555329],\n",
        "       [-0.30928855,  0.6731255 , -0.25663018, -0.36782572],\n",
        "       [ 1.27373362, -0.29195267, -2.65517605,  0.34551794],\n",
        "       [-0.39551645, -0.28913686,  0.45293633, -0.16606091],\n",
        "       [ 0.21493883, -2.02231493, -0.94305681,  1.40395874],\n",
        "       [-0.0185508 , -1.67350462, -1.07253183, -0.99258618],\n",
        "       [ 0.10234768, -0.43260928, -0.6591823 ,  0.0039373 ],\n",
        "       [ 0.4777541 , -0.25902864, -0.57470921, -0.42149822]])\n",
        "```\n",
        "\n",
        "\n",
        "Ustaw odopowiednią opcję biblioteki numpy pozwalającą drukować tablice z określoną precyzją. Ustaw jej wartość na 4 i wydrukuj tablicę $A$.\n",
        "\n"
      ]
    },
    {
      "cell_type": "code",
      "metadata": {
        "id": "aL6C9MYSYkaL",
        "colab": {
          "base_uri": "https://localhost:8080/"
        },
        "outputId": "e8ef0023-8528-4ece-ae6c-7159bbba0cb7"
      },
      "source": [
        "A = np.random.randn(10, 4)\n",
        "print(A)\n",
        "np.set_printoptions(precision=4)\n",
        "print(A)"
      ],
      "execution_count": 16,
      "outputs": [
        {
          "output_type": "stream",
          "name": "stdout",
          "text": [
            "[[-0.48536355  0.08187414  2.31465857 -1.86726519]\n",
            " [ 0.68626019 -1.61271587 -0.47193187  1.0889506 ]\n",
            " [ 0.06428002 -1.07774478 -0.71530371  0.67959775]\n",
            " [-0.73036663  0.21645859  0.04557184 -0.65160035]\n",
            " [ 2.14394409  0.63391902 -2.02514259  0.18645431]\n",
            " [-0.66178646  0.85243333 -0.79252074 -0.11473644]\n",
            " [ 0.50498728  0.86575519 -1.20029641 -0.33450124]\n",
            " [-0.47494531 -0.65332923  1.76545424  0.40498171]\n",
            " [-1.26088395  0.91786195  2.1221562   1.03246526]\n",
            " [-1.51936997 -0.48423407  1.26691115 -0.70766947]]\n",
            "[[-0.4854  0.0819  2.3147 -1.8673]\n",
            " [ 0.6863 -1.6127 -0.4719  1.089 ]\n",
            " [ 0.0643 -1.0777 -0.7153  0.6796]\n",
            " [-0.7304  0.2165  0.0456 -0.6516]\n",
            " [ 2.1439  0.6339 -2.0251  0.1865]\n",
            " [-0.6618  0.8524 -0.7925 -0.1147]\n",
            " [ 0.505   0.8658 -1.2003 -0.3345]\n",
            " [-0.4749 -0.6533  1.7655  0.405 ]\n",
            " [-1.2609  0.9179  2.1222  1.0325]\n",
            " [-1.5194 -0.4842  1.2669 -0.7077]]\n"
          ]
        }
      ]
    },
    {
      "cell_type": "markdown",
      "metadata": {
        "id": "hOhqDRz618Tx"
      },
      "source": [
        "### <a name='7'></a> Ćwiczenie 57\n",
        "Podana jest poniższa tablica numpy $A$:\n",
        "\n",
        "```\n",
        "A = np.array([1.2e-6, 1.7e-7])\n",
        "```\n",
        "\n",
        "Ustaw wartość precyzji na 8. Następnie ustaw odopowiednią opcję biblioteki numpy pozwalającą stłumić notację wykładniczą. Wydrukuj tablicę $A$.\n",
        "\n",
        "__Oczekiwany wynik:__\n",
        "\n",
        "\n",
        "```\n",
        "array([0.0000012 , 0.00000017])\n",
        "```\n",
        "\n",
        "\n",
        "\n"
      ]
    },
    {
      "cell_type": "code",
      "metadata": {
        "id": "BUr3XXiWdUWi",
        "colab": {
          "base_uri": "https://localhost:8080/"
        },
        "outputId": "5ffe5198-751c-452b-a21e-7760eb28f7b0"
      },
      "source": [
        "A = np.array([1.2e-6, 1.7e-7])\n",
        "print(A)\n",
        "np.set_printoptions(precision=8, suppress=True)\n",
        "print(A)"
      ],
      "execution_count": 20,
      "outputs": [
        {
          "output_type": "stream",
          "name": "stdout",
          "text": [
            "[0. 0.]\n",
            "[0.0000012  0.00000017]\n"
          ]
        }
      ]
    },
    {
      "cell_type": "markdown",
      "metadata": {
        "id": "TXUd_4631-gw"
      },
      "source": [
        "### <a name='8'></a> Ćwiczenie 58\n",
        "Podana jest poniższa tablica numpy $A$:\n",
        "\n",
        "```\n",
        "A = np.random.randn(8, 4)\n",
        "```\n",
        "Usuń trzecią kolumnę z tablicy $A$.\n",
        "\n",
        "__Oczekiwany wynik:__\n",
        "\n",
        "\n",
        "```\n",
        "array([[-0.55692881, -0.66003196,  0.70856031],\n",
        "       [ 0.22378737, -0.19796576, -0.16889332],\n",
        "       [ 0.26062786,  0.29865445, -0.92259267],\n",
        "       [-2.40317659,  1.79961876, -1.96495796],\n",
        "       [ 0.13051561, -1.7085185 ,  0.54885043],\n",
        "       [ 1.77268727,  0.38751181, -0.05141955],\n",
        "       [-1.80858596, -0.45075211,  0.15332866],\n",
        "       [ 1.94218961, -1.93679529, -1.83350954]])\n",
        "```\n",
        "__Wskazówka:__ Wykorzystaj funkcję _np.delete()_.\n",
        "\n",
        "\n"
      ]
    },
    {
      "cell_type": "code",
      "metadata": {
        "id": "o5PxnILogU6z",
        "colab": {
          "base_uri": "https://localhost:8080/"
        },
        "outputId": "e36f0f65-d3a0-4317-d0f3-7fbf32d7a156"
      },
      "source": [
        "A = np.random.randn(8, 4)\n",
        "print(A)\n",
        "print(np.delete(A, 2, 1))"
      ],
      "execution_count": 23,
      "outputs": [
        {
          "output_type": "stream",
          "name": "stdout",
          "text": [
            "[[-0.81822068  2.09238728 -1.00601738 -1.21418861]\n",
            " [ 1.15811087  0.79166269  0.62411982  0.62834551]\n",
            " [-0.01224677 -0.89725437  0.07580456 -0.67716171]\n",
            " [ 0.97511973 -0.14705738 -0.8254972  -0.32138584]\n",
            " [ 0.41293145 -0.56372455 -0.8222204   0.24368721]\n",
            " [ 0.24496657 -0.50694318 -0.47103831  0.23204994]\n",
            " [-1.44808434 -1.40746377 -0.71844422 -0.21344715]\n",
            " [ 0.31090757  1.47535622  0.85765962 -0.15993853]]\n",
            "[[-0.81822068  2.09238728 -1.21418861]\n",
            " [ 1.15811087  0.79166269  0.62834551]\n",
            " [-0.01224677 -0.89725437 -0.67716171]\n",
            " [ 0.97511973 -0.14705738 -0.32138584]\n",
            " [ 0.41293145 -0.56372455  0.24368721]\n",
            " [ 0.24496657 -0.50694318  0.23204994]\n",
            " [-1.44808434 -1.40746377 -0.21344715]\n",
            " [ 0.31090757  1.47535622 -0.15993853]]\n"
          ]
        }
      ]
    },
    {
      "cell_type": "markdown",
      "metadata": {
        "id": "tgI6xEn-2AQo"
      },
      "source": [
        "\n",
        "### <a name='9'></a> Ćwiczenie 59\n",
        "Podana jest tablica jednowymiarowa $v$ (wektor):\n",
        "\n",
        "```\n",
        "v = np.array([3, 4, -2])\n",
        "```\n",
        "Policz normę wektora $v$.\n"
      ]
    },
    {
      "cell_type": "code",
      "metadata": {
        "id": "TYPzAZCwi-Ky",
        "colab": {
          "base_uri": "https://localhost:8080/"
        },
        "outputId": "6b3a8d32-f9cd-4090-c5aa-1a483965fe00"
      },
      "source": [
        "v = np.array([3, 4, -2])\n",
        "np.sqrt(sum([i*i for i in v]))\n",
        "\n",
        "#lub\n",
        "\n",
        "np.linalg.norm(v)"
      ],
      "execution_count": 25,
      "outputs": [
        {
          "output_type": "execute_result",
          "data": {
            "text/plain": [
              "5.385164807134504"
            ]
          },
          "metadata": {},
          "execution_count": 25
        }
      ]
    },
    {
      "cell_type": "markdown",
      "metadata": {
        "id": "wxhpf-uq2B1I"
      },
      "source": [
        "### <a name='10'></a> Ćwiczenie 60\n",
        "Poniżej podana jest przykładowa tablica $A$:\n",
        "\n",
        "\n",
        "```\n",
        "A = np.random.randint(10, size=(100, 30))\n",
        "```\n",
        "Ustaw odopowiednią opcję biblioteki numpy pozwalającą drukować 10 skrajnych elementów. Wydrukuj tablicę $A$.\n"
      ]
    },
    {
      "cell_type": "code",
      "metadata": {
        "id": "liJX2nIBk-gO",
        "colab": {
          "base_uri": "https://localhost:8080/"
        },
        "outputId": "f484a002-c31a-441e-a4a7-146d6d9c940a"
      },
      "source": [
        "A = np.random.randint(10, size=(100, 30))\n",
        "A"
      ],
      "execution_count": 26,
      "outputs": [
        {
          "output_type": "execute_result",
          "data": {
            "text/plain": [
              "array([[6, 2, 1, ..., 8, 1, 8],\n",
              "       [0, 0, 4, ..., 4, 3, 2],\n",
              "       [5, 1, 2, ..., 4, 6, 5],\n",
              "       ...,\n",
              "       [7, 7, 3, ..., 4, 5, 5],\n",
              "       [5, 1, 9, ..., 3, 2, 1],\n",
              "       [0, 4, 1, ..., 1, 6, 7]])"
            ]
          },
          "metadata": {},
          "execution_count": 26
        }
      ]
    },
    {
      "cell_type": "code",
      "source": [
        "np.set_printoptions(edgeitems=10)"
      ],
      "metadata": {
        "id": "y4LBPdbjHtkV"
      },
      "execution_count": 28,
      "outputs": []
    },
    {
      "cell_type": "code",
      "source": [
        "A"
      ],
      "metadata": {
        "id": "49P1DYRyHxlF",
        "outputId": "4da96c85-ab3f-4f96-9a71-4c550f0408ec",
        "colab": {
          "base_uri": "https://localhost:8080/"
        }
      },
      "execution_count": 29,
      "outputs": [
        {
          "output_type": "execute_result",
          "data": {
            "text/plain": [
              "array([[6, 2, 1, 9, 3, 7, 8, 6, 0, 2, ..., 5, 4, 4, 3, 2, 2, 3, 8, 1, 8],\n",
              "       [0, 0, 4, 5, 5, 2, 6, 8, 9, 7, ..., 4, 8, 3, 5, 0, 8, 0, 4, 3, 2],\n",
              "       [5, 1, 2, 4, 8, 1, 9, 7, 1, 4, ..., 5, 0, 0, 1, 8, 2, 0, 4, 6, 5],\n",
              "       [0, 4, 4, 5, 2, 4, 6, 4, 4, 4, ..., 0, 7, 1, 7, 6, 9, 9, 1, 5, 5],\n",
              "       [2, 1, 0, 5, 4, 8, 0, 6, 4, 4, ..., 1, 3, 8, 5, 0, 7, 6, 9, 2, 0],\n",
              "       [4, 3, 9, 7, 0, 9, 0, 3, 7, 4, ..., 3, 7, 3, 7, 8, 2, 2, 1, 9, 2],\n",
              "       [2, 4, 4, 1, 9, 5, 4, 5, 0, 4, ..., 7, 0, 9, 3, 0, 7, 0, 2, 3, 7],\n",
              "       [5, 9, 6, 7, 1, 9, 7, 2, 6, 2, ..., 6, 8, 0, 6, 5, 9, 8, 0, 3, 8],\n",
              "       [3, 9, 2, 8, 1, 3, 5, 1, 7, 7, ..., 5, 4, 8, 0, 4, 5, 4, 5, 5, 6],\n",
              "       [3, 7, 6, 8, 6, 2, 2, 7, 4, 3, ..., 2, 8, 1, 7, 9, 2, 4, 5, 9, 5],\n",
              "       ...,\n",
              "       [5, 3, 3, 1, 1, 3, 4, 7, 5, 3, ..., 8, 0, 9, 9, 1, 5, 5, 0, 6, 7],\n",
              "       [1, 7, 8, 5, 4, 8, 8, 0, 2, 8, ..., 4, 0, 9, 6, 9, 0, 8, 7, 6, 9],\n",
              "       [6, 4, 4, 4, 0, 7, 0, 3, 8, 8, ..., 8, 2, 1, 2, 8, 6, 8, 1, 4, 3],\n",
              "       [1, 8, 8, 5, 5, 7, 5, 0, 3, 6, ..., 7, 5, 5, 0, 3, 4, 2, 8, 0, 5],\n",
              "       [5, 9, 4, 4, 9, 4, 5, 7, 1, 5, ..., 7, 8, 3, 9, 9, 5, 0, 3, 6, 0],\n",
              "       [7, 9, 5, 4, 9, 8, 1, 4, 5, 6, ..., 6, 3, 2, 8, 7, 0, 6, 8, 7, 7],\n",
              "       [5, 3, 7, 2, 8, 1, 1, 6, 9, 3, ..., 0, 9, 6, 9, 8, 9, 8, 9, 2, 4],\n",
              "       [7, 7, 3, 0, 0, 3, 5, 7, 5, 8, ..., 5, 0, 1, 5, 1, 9, 4, 4, 5, 5],\n",
              "       [5, 1, 9, 2, 5, 7, 0, 0, 1, 5, ..., 6, 6, 5, 5, 1, 9, 5, 3, 2, 1],\n",
              "       [0, 4, 1, 1, 6, 7, 9, 7, 3, 0, ..., 3, 4, 9, 4, 7, 9, 7, 1, 6, 7]])"
            ]
          },
          "metadata": {},
          "execution_count": 29
        }
      ]
    },
    {
      "cell_type": "code",
      "source": [],
      "metadata": {
        "id": "bEEZQaFgH1Ph"
      },
      "execution_count": null,
      "outputs": []
    }
  ]
}